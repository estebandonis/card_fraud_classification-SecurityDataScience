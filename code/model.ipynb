{
 "cells": [
  {
   "cell_type": "code",
   "execution_count": 1,
   "id": "209be322",
   "metadata": {},
   "outputs": [],
   "source": [
    "import bisect\n",
    "import time\n",
    "from itertools import product\n",
    "\n",
    "import numpy as np\n",
    "import pandas as pd\n",
    "import seaborn as sns\n",
    "import lightgbm as lgb\n",
    "import matplotlib.pyplot as plt\n",
    "\n",
    "from sklearn.metrics import classification_report, confusion_matrix, roc_auc_score, f1_score, accuracy_score\n",
    "from sklearn.preprocessing import LabelEncoder"
   ]
  },
  {
   "cell_type": "markdown",
   "id": "fd0b93f0",
   "metadata": {},
   "source": [
    "## Preparación del dataset"
   ]
  },
  {
   "cell_type": "markdown",
   "id": "478434ae",
   "metadata": {},
   "source": [
    "### Adaptar el dataset"
   ]
  },
  {
   "cell_type": "code",
   "execution_count": 2,
   "id": "8e713c2a",
   "metadata": {},
   "outputs": [],
   "source": [
    "# Cargamos modelo\n",
    "df = pd.read_csv('../data/data_engineered.csv')"
   ]
  },
  {
   "cell_type": "code",
   "execution_count": 3,
   "id": "6c9e50c0",
   "metadata": {},
   "outputs": [],
   "source": [
    "# Eliminamos columnas innecesarias\n",
    "df = df.drop(columns=['first', 'last', 'city_pop', 'street', 'job', 'dob', 'trans_num', 'hour_window', 'unix_time'])"
   ]
  },
  {
   "cell_type": "markdown",
   "id": "728c16e8",
   "metadata": {},
   "source": [
    "### Separación de la data "
   ]
  },
  {
   "cell_type": "markdown",
   "id": "e30ada7a",
   "metadata": {},
   "source": [
    "Dividimos en train y test el dataset"
   ]
  },
  {
   "cell_type": "code",
   "execution_count": 4,
   "id": "bdb8074e",
   "metadata": {},
   "outputs": [],
   "source": [
    "train_mask = (df['trans_month'] == 12) & (df['year'] == 2020)\n",
    "df_train = df[~train_mask]\n",
    "\n",
    "df_test = df[((df['trans_month'] == 12) & (df['year'] == 2020))]"
   ]
  },
  {
   "cell_type": "markdown",
   "id": "f6d78310",
   "metadata": {},
   "source": [
    "Dividimos los train y test con los datos y las respuestas"
   ]
  },
  {
   "cell_type": "code",
   "execution_count": 5,
   "id": "934bf720",
   "metadata": {},
   "outputs": [],
   "source": [
    "X_train = df_train.drop(columns=['is_fraud'])\n",
    "y_train = df_train['is_fraud']\n",
    "\n",
    "X_test = df_test.drop(columns=['is_fraud'])\n",
    "y_test = df_test['is_fraud']"
   ]
  },
  {
   "cell_type": "markdown",
   "id": "c9e234fd",
   "metadata": {},
   "source": [
    "Identificamos las variables categoricas"
   ]
  },
  {
   "cell_type": "code",
   "execution_count": 6,
   "id": "412936c0",
   "metadata": {},
   "outputs": [],
   "source": [
    "categorical_cols = X_train.select_dtypes(include=['object', 'category']).columns\n",
    "numerical_cols = X_train.select_dtypes(include=np.number).columns"
   ]
  },
  {
   "cell_type": "code",
   "execution_count": 7,
   "id": "21cb4dfe",
   "metadata": {},
   "outputs": [
    {
     "data": {
      "text/plain": [
       "Index(['merchant', 'category', 'gender', 'city', 'state'], dtype='object')"
      ]
     },
     "execution_count": 7,
     "metadata": {},
     "output_type": "execute_result"
    }
   ],
   "source": [
    "categorical_cols"
   ]
  },
  {
   "cell_type": "code",
   "execution_count": 8,
   "id": "c400dbc5",
   "metadata": {},
   "outputs": [
    {
     "data": {
      "text/plain": [
       "Index(['cc_num', 'amt', 'zip', 'lat', 'long', 'merch_lat', 'merch_long',\n",
       "       'amt_month', 'amt_year', 'amt_month_shopping_net_spend',\n",
       "       'count_month_shopping_net', 'dist_between_client_and_merch',\n",
       "       'trans_month', 'trans_day', 'hour', 'year', 'times_shopped_at_merchant',\n",
       "       'times_shopped_at_merchant_year', 'times_shopped_at_merchant_month',\n",
       "       'times_shopped_at_merchant_day', 'time_diff_seconds', 'trans_per_hour',\n",
       "       'hour_trans_ratio', 'unusual_distance', 'distance_diff',\n",
       "       'velocity_km_h', 'mean_dist_merchant', 'std_dist_merchant',\n",
       "       'dist_z_score', 'amt_month_ratio', 'amt_year_ratio',\n",
       "       'mean_amt_category', 'std_amt_category', 'amt_z_score',\n",
       "       'high_amt_first_time', 'mean_times_day_merchant',\n",
       "       'std_times_day_merchant', 'times_day_z_score', 'unique_cards_per_hour',\n",
       "       'amt_variance_hour'],\n",
       "      dtype='object')"
      ]
     },
     "execution_count": 8,
     "metadata": {},
     "output_type": "execute_result"
    }
   ],
   "source": [
    "numerical_cols"
   ]
  },
  {
   "cell_type": "markdown",
   "id": "6f39fb5b",
   "metadata": {},
   "source": [
    "Copiamos los datasets de datos"
   ]
  },
  {
   "cell_type": "code",
   "execution_count": 9,
   "id": "69064aa7",
   "metadata": {},
   "outputs": [],
   "source": [
    "X_train_processed = X_train.copy()\n",
    "X_test_processed = X_test.copy()"
   ]
  },
  {
   "cell_type": "markdown",
   "id": "17b97389",
   "metadata": {},
   "source": [
    "Procesamos las variables categoricas"
   ]
  },
  {
   "cell_type": "code",
   "execution_count": 10,
   "id": "4f57bc57",
   "metadata": {},
   "outputs": [],
   "source": [
    "for col in categorical_cols:\n",
    "    le = LabelEncoder()\n",
    "    X_train_processed[col] = le.fit_transform(X_train[col].astype(str))\n",
    "\n",
    "    X_test_processed[col] = X_test[col].astype(str).map(lambda s: '<unknown>' if s not in le.classes_ else s)\n",
    "    \n",
    "    if '<unknown>' not in le.classes_:\n",
    "        if X_test_processed[col].eq('<unknown>').any():\n",
    "            le_classes = le.classes_.tolist()\n",
    "            bisect.insort_left(le_classes, '<unknown>')\n",
    "            le.classes_ = np.array(le_classes)\n",
    "        \n",
    "    X_test_processed[col] = le.transform(X_test_processed[col])"
   ]
  },
  {
   "cell_type": "markdown",
   "id": "c835cca0",
   "metadata": {},
   "source": [
    "## Primer Intento"
   ]
  },
  {
   "cell_type": "markdown",
   "id": "15cac21e",
   "metadata": {},
   "source": [
    "Definimos los parámetros para nuestro modelo"
   ]
  },
  {
   "cell_type": "code",
   "execution_count": 11,
   "id": "934c27ba",
   "metadata": {},
   "outputs": [],
   "source": [
    "lgbm_classifier = lgb.LGBMClassifier(\n",
    "    n_estimators=100,\n",
    "    learning_rate=0.1,\n",
    "    objective='binary',\n",
    "    random_state=123,\n",
    "    n_jobs=2,\n",
    "    is_unbalance=True\n",
    ")"
   ]
  },
  {
   "cell_type": "markdown",
   "id": "b637f069",
   "metadata": {},
   "source": [
    "Entrenamos el modelo que definimos con la data de entrenamiento"
   ]
  },
  {
   "cell_type": "code",
   "execution_count": 12,
   "id": "8439c003",
   "metadata": {},
   "outputs": [
    {
     "name": "stdout",
     "output_type": "stream",
     "text": [
      "[LightGBM] [Info] Number of positive: 9393, number of negative: 1703463\n",
      "[LightGBM] [Info] Auto-choosing row-wise multi-threading, the overhead of testing was 0.067803 seconds.\n",
      "You can set `force_row_wise=true` to remove the overhead.\n",
      "And if memory is not enough, you can set `force_col_wise=true`.\n",
      "[LightGBM] [Info] Total Bins 7132\n",
      "[LightGBM] [Info] Number of data points in the train set: 1712856, number of used features: 46\n",
      "[LightGBM] [Info] [binary:BoostFromScore]: pavg=0.005484 -> initscore=-5.200454\n",
      "[LightGBM] [Info] Start training from score -5.200454\n"
     ]
    },
    {
     "data": {
      "text/html": [
       "<style>#sk-container-id-1 {\n",
       "  /* Definition of color scheme common for light and dark mode */\n",
       "  --sklearn-color-text: black;\n",
       "  --sklearn-color-line: gray;\n",
       "  /* Definition of color scheme for unfitted estimators */\n",
       "  --sklearn-color-unfitted-level-0: #fff5e6;\n",
       "  --sklearn-color-unfitted-level-1: #f6e4d2;\n",
       "  --sklearn-color-unfitted-level-2: #ffe0b3;\n",
       "  --sklearn-color-unfitted-level-3: chocolate;\n",
       "  /* Definition of color scheme for fitted estimators */\n",
       "  --sklearn-color-fitted-level-0: #f0f8ff;\n",
       "  --sklearn-color-fitted-level-1: #d4ebff;\n",
       "  --sklearn-color-fitted-level-2: #b3dbfd;\n",
       "  --sklearn-color-fitted-level-3: cornflowerblue;\n",
       "\n",
       "  /* Specific color for light theme */\n",
       "  --sklearn-color-text-on-default-background: var(--sg-text-color, var(--theme-code-foreground, var(--jp-content-font-color1, black)));\n",
       "  --sklearn-color-background: var(--sg-background-color, var(--theme-background, var(--jp-layout-color0, white)));\n",
       "  --sklearn-color-border-box: var(--sg-text-color, var(--theme-code-foreground, var(--jp-content-font-color1, black)));\n",
       "  --sklearn-color-icon: #696969;\n",
       "\n",
       "  @media (prefers-color-scheme: dark) {\n",
       "    /* Redefinition of color scheme for dark theme */\n",
       "    --sklearn-color-text-on-default-background: var(--sg-text-color, var(--theme-code-foreground, var(--jp-content-font-color1, white)));\n",
       "    --sklearn-color-background: var(--sg-background-color, var(--theme-background, var(--jp-layout-color0, #111)));\n",
       "    --sklearn-color-border-box: var(--sg-text-color, var(--theme-code-foreground, var(--jp-content-font-color1, white)));\n",
       "    --sklearn-color-icon: #878787;\n",
       "  }\n",
       "}\n",
       "\n",
       "#sk-container-id-1 {\n",
       "  color: var(--sklearn-color-text);\n",
       "}\n",
       "\n",
       "#sk-container-id-1 pre {\n",
       "  padding: 0;\n",
       "}\n",
       "\n",
       "#sk-container-id-1 input.sk-hidden--visually {\n",
       "  border: 0;\n",
       "  clip: rect(1px 1px 1px 1px);\n",
       "  clip: rect(1px, 1px, 1px, 1px);\n",
       "  height: 1px;\n",
       "  margin: -1px;\n",
       "  overflow: hidden;\n",
       "  padding: 0;\n",
       "  position: absolute;\n",
       "  width: 1px;\n",
       "}\n",
       "\n",
       "#sk-container-id-1 div.sk-dashed-wrapped {\n",
       "  border: 1px dashed var(--sklearn-color-line);\n",
       "  margin: 0 0.4em 0.5em 0.4em;\n",
       "  box-sizing: border-box;\n",
       "  padding-bottom: 0.4em;\n",
       "  background-color: var(--sklearn-color-background);\n",
       "}\n",
       "\n",
       "#sk-container-id-1 div.sk-container {\n",
       "  /* jupyter's `normalize.less` sets `[hidden] { display: none; }`\n",
       "     but bootstrap.min.css set `[hidden] { display: none !important; }`\n",
       "     so we also need the `!important` here to be able to override the\n",
       "     default hidden behavior on the sphinx rendered scikit-learn.org.\n",
       "     See: https://github.com/scikit-learn/scikit-learn/issues/21755 */\n",
       "  display: inline-block !important;\n",
       "  position: relative;\n",
       "}\n",
       "\n",
       "#sk-container-id-1 div.sk-text-repr-fallback {\n",
       "  display: none;\n",
       "}\n",
       "\n",
       "div.sk-parallel-item,\n",
       "div.sk-serial,\n",
       "div.sk-item {\n",
       "  /* draw centered vertical line to link estimators */\n",
       "  background-image: linear-gradient(var(--sklearn-color-text-on-default-background), var(--sklearn-color-text-on-default-background));\n",
       "  background-size: 2px 100%;\n",
       "  background-repeat: no-repeat;\n",
       "  background-position: center center;\n",
       "}\n",
       "\n",
       "/* Parallel-specific style estimator block */\n",
       "\n",
       "#sk-container-id-1 div.sk-parallel-item::after {\n",
       "  content: \"\";\n",
       "  width: 100%;\n",
       "  border-bottom: 2px solid var(--sklearn-color-text-on-default-background);\n",
       "  flex-grow: 1;\n",
       "}\n",
       "\n",
       "#sk-container-id-1 div.sk-parallel {\n",
       "  display: flex;\n",
       "  align-items: stretch;\n",
       "  justify-content: center;\n",
       "  background-color: var(--sklearn-color-background);\n",
       "  position: relative;\n",
       "}\n",
       "\n",
       "#sk-container-id-1 div.sk-parallel-item {\n",
       "  display: flex;\n",
       "  flex-direction: column;\n",
       "}\n",
       "\n",
       "#sk-container-id-1 div.sk-parallel-item:first-child::after {\n",
       "  align-self: flex-end;\n",
       "  width: 50%;\n",
       "}\n",
       "\n",
       "#sk-container-id-1 div.sk-parallel-item:last-child::after {\n",
       "  align-self: flex-start;\n",
       "  width: 50%;\n",
       "}\n",
       "\n",
       "#sk-container-id-1 div.sk-parallel-item:only-child::after {\n",
       "  width: 0;\n",
       "}\n",
       "\n",
       "/* Serial-specific style estimator block */\n",
       "\n",
       "#sk-container-id-1 div.sk-serial {\n",
       "  display: flex;\n",
       "  flex-direction: column;\n",
       "  align-items: center;\n",
       "  background-color: var(--sklearn-color-background);\n",
       "  padding-right: 1em;\n",
       "  padding-left: 1em;\n",
       "}\n",
       "\n",
       "\n",
       "/* Toggleable style: style used for estimator/Pipeline/ColumnTransformer box that is\n",
       "clickable and can be expanded/collapsed.\n",
       "- Pipeline and ColumnTransformer use this feature and define the default style\n",
       "- Estimators will overwrite some part of the style using the `sk-estimator` class\n",
       "*/\n",
       "\n",
       "/* Pipeline and ColumnTransformer style (default) */\n",
       "\n",
       "#sk-container-id-1 div.sk-toggleable {\n",
       "  /* Default theme specific background. It is overwritten whether we have a\n",
       "  specific estimator or a Pipeline/ColumnTransformer */\n",
       "  background-color: var(--sklearn-color-background);\n",
       "}\n",
       "\n",
       "/* Toggleable label */\n",
       "#sk-container-id-1 label.sk-toggleable__label {\n",
       "  cursor: pointer;\n",
       "  display: block;\n",
       "  width: 100%;\n",
       "  margin-bottom: 0;\n",
       "  padding: 0.5em;\n",
       "  box-sizing: border-box;\n",
       "  text-align: center;\n",
       "}\n",
       "\n",
       "#sk-container-id-1 label.sk-toggleable__label-arrow:before {\n",
       "  /* Arrow on the left of the label */\n",
       "  content: \"▸\";\n",
       "  float: left;\n",
       "  margin-right: 0.25em;\n",
       "  color: var(--sklearn-color-icon);\n",
       "}\n",
       "\n",
       "#sk-container-id-1 label.sk-toggleable__label-arrow:hover:before {\n",
       "  color: var(--sklearn-color-text);\n",
       "}\n",
       "\n",
       "/* Toggleable content - dropdown */\n",
       "\n",
       "#sk-container-id-1 div.sk-toggleable__content {\n",
       "  max-height: 0;\n",
       "  max-width: 0;\n",
       "  overflow: hidden;\n",
       "  text-align: left;\n",
       "  /* unfitted */\n",
       "  background-color: var(--sklearn-color-unfitted-level-0);\n",
       "}\n",
       "\n",
       "#sk-container-id-1 div.sk-toggleable__content.fitted {\n",
       "  /* fitted */\n",
       "  background-color: var(--sklearn-color-fitted-level-0);\n",
       "}\n",
       "\n",
       "#sk-container-id-1 div.sk-toggleable__content pre {\n",
       "  margin: 0.2em;\n",
       "  border-radius: 0.25em;\n",
       "  color: var(--sklearn-color-text);\n",
       "  /* unfitted */\n",
       "  background-color: var(--sklearn-color-unfitted-level-0);\n",
       "}\n",
       "\n",
       "#sk-container-id-1 div.sk-toggleable__content.fitted pre {\n",
       "  /* unfitted */\n",
       "  background-color: var(--sklearn-color-fitted-level-0);\n",
       "}\n",
       "\n",
       "#sk-container-id-1 input.sk-toggleable__control:checked~div.sk-toggleable__content {\n",
       "  /* Expand drop-down */\n",
       "  max-height: 200px;\n",
       "  max-width: 100%;\n",
       "  overflow: auto;\n",
       "}\n",
       "\n",
       "#sk-container-id-1 input.sk-toggleable__control:checked~label.sk-toggleable__label-arrow:before {\n",
       "  content: \"▾\";\n",
       "}\n",
       "\n",
       "/* Pipeline/ColumnTransformer-specific style */\n",
       "\n",
       "#sk-container-id-1 div.sk-label input.sk-toggleable__control:checked~label.sk-toggleable__label {\n",
       "  color: var(--sklearn-color-text);\n",
       "  background-color: var(--sklearn-color-unfitted-level-2);\n",
       "}\n",
       "\n",
       "#sk-container-id-1 div.sk-label.fitted input.sk-toggleable__control:checked~label.sk-toggleable__label {\n",
       "  background-color: var(--sklearn-color-fitted-level-2);\n",
       "}\n",
       "\n",
       "/* Estimator-specific style */\n",
       "\n",
       "/* Colorize estimator box */\n",
       "#sk-container-id-1 div.sk-estimator input.sk-toggleable__control:checked~label.sk-toggleable__label {\n",
       "  /* unfitted */\n",
       "  background-color: var(--sklearn-color-unfitted-level-2);\n",
       "}\n",
       "\n",
       "#sk-container-id-1 div.sk-estimator.fitted input.sk-toggleable__control:checked~label.sk-toggleable__label {\n",
       "  /* fitted */\n",
       "  background-color: var(--sklearn-color-fitted-level-2);\n",
       "}\n",
       "\n",
       "#sk-container-id-1 div.sk-label label.sk-toggleable__label,\n",
       "#sk-container-id-1 div.sk-label label {\n",
       "  /* The background is the default theme color */\n",
       "  color: var(--sklearn-color-text-on-default-background);\n",
       "}\n",
       "\n",
       "/* On hover, darken the color of the background */\n",
       "#sk-container-id-1 div.sk-label:hover label.sk-toggleable__label {\n",
       "  color: var(--sklearn-color-text);\n",
       "  background-color: var(--sklearn-color-unfitted-level-2);\n",
       "}\n",
       "\n",
       "/* Label box, darken color on hover, fitted */\n",
       "#sk-container-id-1 div.sk-label.fitted:hover label.sk-toggleable__label.fitted {\n",
       "  color: var(--sklearn-color-text);\n",
       "  background-color: var(--sklearn-color-fitted-level-2);\n",
       "}\n",
       "\n",
       "/* Estimator label */\n",
       "\n",
       "#sk-container-id-1 div.sk-label label {\n",
       "  font-family: monospace;\n",
       "  font-weight: bold;\n",
       "  display: inline-block;\n",
       "  line-height: 1.2em;\n",
       "}\n",
       "\n",
       "#sk-container-id-1 div.sk-label-container {\n",
       "  text-align: center;\n",
       "}\n",
       "\n",
       "/* Estimator-specific */\n",
       "#sk-container-id-1 div.sk-estimator {\n",
       "  font-family: monospace;\n",
       "  border: 1px dotted var(--sklearn-color-border-box);\n",
       "  border-radius: 0.25em;\n",
       "  box-sizing: border-box;\n",
       "  margin-bottom: 0.5em;\n",
       "  /* unfitted */\n",
       "  background-color: var(--sklearn-color-unfitted-level-0);\n",
       "}\n",
       "\n",
       "#sk-container-id-1 div.sk-estimator.fitted {\n",
       "  /* fitted */\n",
       "  background-color: var(--sklearn-color-fitted-level-0);\n",
       "}\n",
       "\n",
       "/* on hover */\n",
       "#sk-container-id-1 div.sk-estimator:hover {\n",
       "  /* unfitted */\n",
       "  background-color: var(--sklearn-color-unfitted-level-2);\n",
       "}\n",
       "\n",
       "#sk-container-id-1 div.sk-estimator.fitted:hover {\n",
       "  /* fitted */\n",
       "  background-color: var(--sklearn-color-fitted-level-2);\n",
       "}\n",
       "\n",
       "/* Specification for estimator info (e.g. \"i\" and \"?\") */\n",
       "\n",
       "/* Common style for \"i\" and \"?\" */\n",
       "\n",
       ".sk-estimator-doc-link,\n",
       "a:link.sk-estimator-doc-link,\n",
       "a:visited.sk-estimator-doc-link {\n",
       "  float: right;\n",
       "  font-size: smaller;\n",
       "  line-height: 1em;\n",
       "  font-family: monospace;\n",
       "  background-color: var(--sklearn-color-background);\n",
       "  border-radius: 1em;\n",
       "  height: 1em;\n",
       "  width: 1em;\n",
       "  text-decoration: none !important;\n",
       "  margin-left: 1ex;\n",
       "  /* unfitted */\n",
       "  border: var(--sklearn-color-unfitted-level-1) 1pt solid;\n",
       "  color: var(--sklearn-color-unfitted-level-1);\n",
       "}\n",
       "\n",
       ".sk-estimator-doc-link.fitted,\n",
       "a:link.sk-estimator-doc-link.fitted,\n",
       "a:visited.sk-estimator-doc-link.fitted {\n",
       "  /* fitted */\n",
       "  border: var(--sklearn-color-fitted-level-1) 1pt solid;\n",
       "  color: var(--sklearn-color-fitted-level-1);\n",
       "}\n",
       "\n",
       "/* On hover */\n",
       "div.sk-estimator:hover .sk-estimator-doc-link:hover,\n",
       ".sk-estimator-doc-link:hover,\n",
       "div.sk-label-container:hover .sk-estimator-doc-link:hover,\n",
       ".sk-estimator-doc-link:hover {\n",
       "  /* unfitted */\n",
       "  background-color: var(--sklearn-color-unfitted-level-3);\n",
       "  color: var(--sklearn-color-background);\n",
       "  text-decoration: none;\n",
       "}\n",
       "\n",
       "div.sk-estimator.fitted:hover .sk-estimator-doc-link.fitted:hover,\n",
       ".sk-estimator-doc-link.fitted:hover,\n",
       "div.sk-label-container:hover .sk-estimator-doc-link.fitted:hover,\n",
       ".sk-estimator-doc-link.fitted:hover {\n",
       "  /* fitted */\n",
       "  background-color: var(--sklearn-color-fitted-level-3);\n",
       "  color: var(--sklearn-color-background);\n",
       "  text-decoration: none;\n",
       "}\n",
       "\n",
       "/* Span, style for the box shown on hovering the info icon */\n",
       ".sk-estimator-doc-link span {\n",
       "  display: none;\n",
       "  z-index: 9999;\n",
       "  position: relative;\n",
       "  font-weight: normal;\n",
       "  right: .2ex;\n",
       "  padding: .5ex;\n",
       "  margin: .5ex;\n",
       "  width: min-content;\n",
       "  min-width: 20ex;\n",
       "  max-width: 50ex;\n",
       "  color: var(--sklearn-color-text);\n",
       "  box-shadow: 2pt 2pt 4pt #999;\n",
       "  /* unfitted */\n",
       "  background: var(--sklearn-color-unfitted-level-0);\n",
       "  border: .5pt solid var(--sklearn-color-unfitted-level-3);\n",
       "}\n",
       "\n",
       ".sk-estimator-doc-link.fitted span {\n",
       "  /* fitted */\n",
       "  background: var(--sklearn-color-fitted-level-0);\n",
       "  border: var(--sklearn-color-fitted-level-3);\n",
       "}\n",
       "\n",
       ".sk-estimator-doc-link:hover span {\n",
       "  display: block;\n",
       "}\n",
       "\n",
       "/* \"?\"-specific style due to the `<a>` HTML tag */\n",
       "\n",
       "#sk-container-id-1 a.estimator_doc_link {\n",
       "  float: right;\n",
       "  font-size: 1rem;\n",
       "  line-height: 1em;\n",
       "  font-family: monospace;\n",
       "  background-color: var(--sklearn-color-background);\n",
       "  border-radius: 1rem;\n",
       "  height: 1rem;\n",
       "  width: 1rem;\n",
       "  text-decoration: none;\n",
       "  /* unfitted */\n",
       "  color: var(--sklearn-color-unfitted-level-1);\n",
       "  border: var(--sklearn-color-unfitted-level-1) 1pt solid;\n",
       "}\n",
       "\n",
       "#sk-container-id-1 a.estimator_doc_link.fitted {\n",
       "  /* fitted */\n",
       "  border: var(--sklearn-color-fitted-level-1) 1pt solid;\n",
       "  color: var(--sklearn-color-fitted-level-1);\n",
       "}\n",
       "\n",
       "/* On hover */\n",
       "#sk-container-id-1 a.estimator_doc_link:hover {\n",
       "  /* unfitted */\n",
       "  background-color: var(--sklearn-color-unfitted-level-3);\n",
       "  color: var(--sklearn-color-background);\n",
       "  text-decoration: none;\n",
       "}\n",
       "\n",
       "#sk-container-id-1 a.estimator_doc_link.fitted:hover {\n",
       "  /* fitted */\n",
       "  background-color: var(--sklearn-color-fitted-level-3);\n",
       "}\n",
       "</style><div id=\"sk-container-id-1\" class=\"sk-top-container\"><div class=\"sk-text-repr-fallback\"><pre>LGBMClassifier(is_unbalance=True, n_jobs=2, objective=&#x27;binary&#x27;,\n",
       "               random_state=123)</pre><b>In a Jupyter environment, please rerun this cell to show the HTML representation or trust the notebook. <br />On GitHub, the HTML representation is unable to render, please try loading this page with nbviewer.org.</b></div><div class=\"sk-container\" hidden><div class=\"sk-item\"><div class=\"sk-estimator fitted sk-toggleable\"><input class=\"sk-toggleable__control sk-hidden--visually\" id=\"sk-estimator-id-1\" type=\"checkbox\" checked><label for=\"sk-estimator-id-1\" class=\"sk-toggleable__label fitted sk-toggleable__label-arrow fitted\">&nbsp;LGBMClassifier<span class=\"sk-estimator-doc-link fitted\">i<span>Fitted</span></span></label><div class=\"sk-toggleable__content fitted\"><pre>LGBMClassifier(is_unbalance=True, n_jobs=2, objective=&#x27;binary&#x27;,\n",
       "               random_state=123)</pre></div> </div></div></div></div>"
      ],
      "text/plain": [
       "LGBMClassifier(is_unbalance=True, n_jobs=2, objective='binary',\n",
       "               random_state=123)"
      ]
     },
     "execution_count": 12,
     "metadata": {},
     "output_type": "execute_result"
    }
   ],
   "source": [
    "lgbm_classifier.fit(X_train_processed, y_train)"
   ]
  },
  {
   "cell_type": "markdown",
   "id": "4607c308",
   "metadata": {},
   "source": [
    "Obtenemos las predicciones del modelo entrenado utilizando los datos de prueba"
   ]
  },
  {
   "cell_type": "code",
   "execution_count": 13,
   "id": "79d14d7c",
   "metadata": {},
   "outputs": [],
   "source": [
    "y_pred_lgbm = lgbm_classifier.predict(X_test_processed)\n",
    "y_pred_proba_lgbm = lgbm_classifier.predict_proba(X_test_processed)[:, 1]"
   ]
  },
  {
   "cell_type": "markdown",
   "id": "29262f65",
   "metadata": {},
   "source": [
    "Comparamos los resultados de las predicciones"
   ]
  },
  {
   "cell_type": "code",
   "execution_count": 14,
   "id": "24701771",
   "metadata": {},
   "outputs": [
    {
     "name": "stdout",
     "output_type": "stream",
     "text": [
      "LightGBM Model Evaluation:\n"
     ]
    },
    {
     "data": {
      "image/png": "[encoded data removed]",
      "text/plain": [
       "<Figure size 800x600 with 2 Axes>"
      ]
     },
     "metadata": {},
     "output_type": "display_data"
    }
   ],
   "source": [
    "print(\"LightGBM Model Evaluation:\")\n",
    "cm = confusion_matrix(y_test, y_pred_lgbm)\n",
    "\n",
    "plt.figure(figsize=(8, 6))\n",
    "sns.heatmap(cm, annot=True, fmt='d', cmap='Blues', xticklabels=['No Fraude', 'Fraude'], yticklabels=['No Fraude', 'Fraude'])\n",
    "plt.title('Confusion Matrix - LightGBM')\n",
    "plt.ylabel('Actual Label')\n",
    "plt.xlabel('Predicted Label')\n",
    "plt.show()\n"
   ]
  },
  {
   "cell_type": "markdown",
   "id": "895fa0c4",
   "metadata": {},
   "source": [
    "En la gráfica se puede ver que nuestro modelo es muy bueno sabiendo cuando una transacción es no fraude, sin embargo, se puede ver que también tiende a confundir algunas transacciones como fraude cuando no lo son. cuando vemos la clasificación de las transacciones fraudulentas, podemos ver que nuestras si lográ identificar un 93% de las transacciones fraudulentas, lo cual es menos del 7% para errores de tipo 2. En cambio, cuando miramos los errores de tipo 1, se puede ver que nuestro modelo no parece reconocer muy bien los fraudes, ya que nos devuelve muchas transacciones legítimas como fraudulentas."
   ]
  },
  {
   "cell_type": "code",
   "execution_count": 15,
   "id": "435ea624",
   "metadata": {},
   "outputs": [
    {
     "name": "stdout",
     "output_type": "stream",
     "text": [
      "\n",
      "Classification Report:\n",
      "              precision    recall  f1-score   support\n",
      "\n",
      "   Not Fraud       1.00      0.98      0.99    139280\n",
      "       Fraud       0.07      0.92      0.12       258\n",
      "\n",
      "    accuracy                           0.98    139538\n",
      "   macro avg       0.53      0.95      0.56    139538\n",
      "weighted avg       1.00      0.98      0.99    139538\n",
      "\n",
      "\n",
      "ROC AUC Score:\n",
      "0.9713363633125398\n",
      "\n",
      "F1 Score:\n",
      "0.9860052643388397\n"
     ]
    }
   ],
   "source": [
    "print(\"\\nClassification Report:\")\n",
    "print(classification_report(y_test, y_pred_lgbm, target_names=['Not Fraud', 'Fraud']))\n",
    "\n",
    "print(\"\\nROC AUC Score:\")\n",
    "print(roc_auc_score(y_test, y_pred_proba_lgbm))\n",
    "\n",
    "print(\"\\nF1 Score:\")\n",
    "print(f1_score(y_test, y_pred_lgbm, average='weighted'))\n"
   ]
  },
  {
   "cell_type": "code",
   "execution_count": 16,
   "id": "08639b62",
   "metadata": {},
   "outputs": [
    {
     "name": "stdout",
     "output_type": "stream",
     "text": [
      "\n",
      "Feature Importances (LightGBM):\n",
      "amt: 311\n",
      "amt_z_score: 305\n",
      "hour_trans_ratio: 191\n",
      "mean_times_day_merchant: 176\n",
      "std_times_day_merchant: 156\n",
      "amt_month_shopping_net_spend: 155\n",
      "amt_month_ratio: 150\n",
      "amt_year_ratio: 145\n",
      "amt_year: 135\n",
      "amt_month: 113\n",
      "hour: 112\n",
      "time_diff_seconds: 110\n",
      "times_day_z_score: 70\n",
      "velocity_km_h: 57\n",
      "city: 53\n",
      "cc_num: 48\n",
      "category: 47\n",
      "std_dist_merchant: 46\n",
      "mean_dist_merchant: 45\n",
      "merchant: 45\n",
      "times_shopped_at_merchant: 44\n",
      "mean_amt_category: 41\n",
      "count_month_shopping_net: 39\n",
      "distance_diff: 35\n",
      "merch_lat: 35\n",
      "dist_between_client_and_merch: 32\n",
      "dist_z_score: 30\n",
      "state: 30\n",
      "zip: 30\n",
      "lat: 29\n",
      "trans_per_hour: 26\n",
      "trans_month: 25\n",
      "long: 21\n",
      "std_amt_category: 21\n",
      "times_shopped_at_merchant_year: 17\n",
      "merch_long: 16\n",
      "amt_variance_hour: 15\n",
      "times_shopped_at_merchant_day: 12\n",
      "trans_day: 10\n",
      "year: 6\n",
      "gender: 5\n",
      "times_shopped_at_merchant_month: 5\n",
      "unique_cards_per_hour: 3\n",
      "high_amt_first_time: 2\n",
      "first_time_at_merchant: 1\n",
      "unusual_distance: 0\n"
     ]
    }
   ],
   "source": [
    "print(\"\\nFeature Importances (LightGBM):\")\n",
    "importances = lgbm_classifier.feature_importances_\n",
    "feature_names = X_train_processed.columns\n",
    "sorted_indices = np.argsort(importances)[::-1]\n",
    "\n",
    "for i in sorted_indices:\n",
    "    print(f\"{feature_names[i]}: {importances[i]}\")"
   ]
  },
  {
   "cell_type": "markdown",
   "id": "58053f76",
   "metadata": {},
   "source": [
    "Imprimimos las features más importantes dentro de las predicciones del modelo"
   ]
  },
  {
   "cell_type": "markdown",
   "id": "d5cc0158",
   "metadata": {},
   "source": [
    "## Métricas Personalizadas"
   ]
  },
  {
   "cell_type": "markdown",
   "id": "4841719d",
   "metadata": {},
   "source": [
    "Crear datasets de LightGBM"
   ]
  },
  {
   "cell_type": "code",
   "execution_count": 17,
   "id": "0f96ec68",
   "metadata": {},
   "outputs": [],
   "source": [
    "train_data = lgb.Dataset(X_train_processed, label=y_train)\n",
    "test_data = lgb.Dataset(X_test_processed, label=y_test, reference=train_data)"
   ]
  },
  {
   "cell_type": "markdown",
   "id": "0ec1fb4d",
   "metadata": {},
   "source": [
    "### Métrica usando cantidad de tarjetas y varianza en la cantidad por hora"
   ]
  },
  {
   "cell_type": "code",
   "execution_count": null,
   "id": "2af5cf2b",
   "metadata": {},
   "outputs": [],
   "source": [
    "# Configurar parámetros\n",
    "params = {\n",
    "    'objective': 'binary', # Definimos el objetivo de clasificación binaria\n",
    "    'metric': 'precision', # Definimos la métrica de evaluación a binar logloss por nuestro objetivo\n",
    "    'learning_rate': 0.01, # Definimos la tasa de aprendizaje\n",
    "    'num_leaves': 31, # Definimos el número de hojas de nuestros árboles\n",
    "    'max_depth': 10, # Definimos la profundidad máxima de nuestros árboles\n",
    "    'seed': 321, # Definimos la semilla para guardar el estado aleatorio\n",
    "    'feature_fraction': 0.6, # Definimos la fracción de características a usar en cada iteración (estas son seleccionadas aleatoriamente)\n",
    "    'lambda_l1': 0.8, # Definimos la regularización L1\n",
    "    'lambda_l2': 0.5, # Definimos la regularización L2\n",
    "    'is_unbalance': True, # Le indicamos al modelo que el dataset está desbalanceado\n",
    "    'boosting_type': 'dart', # Definimos el tipo de boosting a usar (utilizamos DART, ya que es una opción más robusta, aunque más costosa y lenta al momento de entrenar datos)\n",
    "    'num_threads': 4, # Definimos el número de hilos a usar para realizar el entrenamiento\n",
    "}"
   ]
  },
  {
   "cell_type": "code",
   "execution_count": null,
   "id": "79130aee",
   "metadata": {},
   "outputs": [],
   "source": [
    "def custom_unique_card_metric(preds, dataset):\n",
    "    \"\"\"\n",
    "    Función personalizada para evaluar la efectividad al detectar si se realiza un ataque coordinado, \n",
    "    identificando si se usaron muchas tarjetas diferentes en un periodo corto de tiempo.\n",
    "    \"\"\"\n",
    "    # Obtenemos las etiquetas verdaderas\n",
    "    labels = dataset.get_label()\n",
    "    \n",
    "    # Convertimos las predicciones a clases binarias\n",
    "    preds_binary = np.where(preds > 0.5, 1, 0)\n",
    "    \n",
    "    try:\n",
    "         # Acceder a los datos originales\n",
    "        data_to_use = X_train_processed if dataset.reference is None else X_test_processed\n",
    "        \n",
    "        unique_cards = data_to_use['unique_cards_per_hour'].values\n",
    "        amt_variance = data_to_use['amt_variance_hour'].values\n",
    "        \n",
    "        # Identificar posibles ataques coordinados, al identificar si se usaron \n",
    "        # muchas tarjetas únicas en un periodo muy corto de tiempo.\n",
    "        potential_coordinated_attacks = (unique_cards > unique_cards.mean() + 2*unique_cards.std()) | \\\n",
    "                                       (amt_variance < amt_variance.mean() - 2*amt_variance.std())\n",
    "        \n",
    "        # Calcular métricas específicas para ataques coordinados\n",
    "        true_pos_coord = np.sum((labels == 1) & (preds_binary == 1) & potential_coordinated_attacks)\n",
    "        false_neg_coord = np.sum((labels == 1) & (preds_binary == 0) & potential_coordinated_attacks)\n",
    "        \n",
    "        # Penalizar fuertemente los falsos negativos en ataques coordinados\n",
    "        if true_pos_coord + false_neg_coord > 0:\n",
    "            coordinated_recall = true_pos_coord / (true_pos_coord + false_neg_coord)\n",
    "        else:\n",
    "            coordinated_recall = 1.0  # No hay casos de ataques coordinados\n",
    "            \n",
    "        # Métrica general (ponderamos más los errores en ataques coordinados)\n",
    "        error = np.mean(preds_binary != labels)\n",
    "        weighted_error = error * 0.3 + (1 - coordinated_recall) * 0.7\n",
    "        \n",
    "        return 'coordinated_attack_metric', weighted_error, False\n",
    "        \n",
    "    except (ValueError, IndexError):\n",
    "        # Calculamos la métrica personalizada: FN / (TP + FN) en caso de error\n",
    "        true_positives = np.sum((labels == 1) & (preds_binary == 1))\n",
    "        false_negatives = np.sum((labels == 1) & (preds_binary == 0))\n",
    "        \n",
    "        if true_positives == 0:\n",
    "            ratio = float('inf')  # Si no hay TP, la métrica es infinita (muy mala)\n",
    "        else:\n",
    "            ratio = (true_positives + false_negatives) / true_positives\n",
    "            \n",
    "        return 'coordinated_attack_metric', ratio, False  # False porque una tasa menor es mejor"
   ]
  },
  {
   "cell_type": "code",
   "execution_count": 45,
   "id": "a1db5eec",
   "metadata": {},
   "outputs": [
    {
     "name": "stdout",
     "output_type": "stream",
     "text": [
      "[LightGBM] [Info] Number of positive: 9393, number of negative: 1703463\n",
      "[LightGBM] [Info] Auto-choosing row-wise multi-threading, the overhead of testing was 0.069287 seconds.\n",
      "You can set `force_row_wise=true` to remove the overhead.\n",
      "And if memory is not enough, you can set `force_col_wise=true`.\n",
      "[LightGBM] [Info] Total Bins 7131\n",
      "[LightGBM] [Info] Number of data points in the train set: 1712856, number of used features: 46\n",
      "[LightGBM] [Info] [binary:BoostFromScore]: pavg=0.005484 -> initscore=-5.200454\n",
      "[LightGBM] [Info] Start training from score -5.200454\n"
     ]
    }
   ],
   "source": [
    "# Entrenar el modelo con la métrica personalizada\n",
    "model_unique_card = lgb.train(\n",
    "    params,\n",
    "    train_data,\n",
    "    num_boost_round=100,\n",
    "    valid_sets=[train_data, test_data],\n",
    "    feval=custom_unique_card_metric # Colocamos nuestra función de evaluación personalizada\n",
    ")"
   ]
  },
  {
   "cell_type": "code",
   "execution_count": 46,
   "id": "746762f6",
   "metadata": {},
   "outputs": [
    {
     "name": "stdout",
     "output_type": "stream",
     "text": [
      "\n",
      "Classification Report:\n",
      "              precision    recall  f1-score   support\n",
      "\n",
      "   Not Fraud       1.00      0.99      1.00    139280\n",
      "       Fraud       0.17      0.91      0.28       258\n",
      "\n",
      "    accuracy                           0.99    139538\n",
      "   macro avg       0.58      0.95      0.64    139538\n",
      "weighted avg       1.00      0.99      0.99    139538\n",
      "\n",
      "Accuracy: 0.9916\n",
      "ROC AUC Score: 0.9956\n"
     ]
    }
   ],
   "source": [
    "# Obtenemos las predicciones del modelo mejorado con el dataset de prueba\n",
    "y_pred_unique_card = model_unique_card.predict(X_test_processed)\n",
    "# Convertir a clases\n",
    "y_pred_binary_unique_card = np.where(y_pred_unique_card > 0.5, 1, 0)\n",
    "\n",
    "# Calcular las métricas\n",
    "accuracy_unique_card = accuracy_score(y_test, y_pred_binary_unique_card)\n",
    "auc_unique_card = roc_auc_score(y_test, y_pred_unique_card)\n",
    "\n",
    "print(\"\\nClassification Report:\")\n",
    "print(classification_report(y_test, y_pred_binary_unique_card, target_names=['Not Fraud', 'Fraud']))\n",
    "\n",
    "print(f\"Accuracy: {accuracy_unique_card:.4f}\")\n",
    "print(f\"ROC AUC Score: {auc_unique_card:.4f}\")"
   ]
  },
  {
   "cell_type": "code",
   "execution_count": 47,
   "id": "1f1f1a0c",
   "metadata": {},
   "outputs": [
    {
     "data": {
      "image/png": "[encoded data removed]",
      "text/plain": [
       "<Figure size 800x600 with 2 Axes>"
      ]
     },
     "metadata": {},
     "output_type": "display_data"
    }
   ],
   "source": [
    "cm = confusion_matrix(y_test, y_pred_binary_unique_card)\n",
    "\n",
    "plt.figure(figsize=(8, 6))\n",
    "sns.heatmap(cm, annot=True, fmt='d', cmap='Blues', xticklabels=['No Fraude', 'Fraude'], yticklabels=['No Fraude', 'Fraude'])\n",
    "plt.title('Confusion Matrix - LightGBM')\n",
    "plt.ylabel('Actual Label')\n",
    "plt.xlabel('Predicted Label')\n",
    "plt.show()"
   ]
  },
  {
   "cell_type": "markdown",
   "id": "ade40d09",
   "metadata": {},
   "source": [
    "### Métrica usando la frecuencia de compra a un vendedor"
   ]
  },
  {
   "cell_type": "code",
   "execution_count": 48,
   "id": "ade20eab",
   "metadata": {},
   "outputs": [],
   "source": [
    "def custom_merchant_frequency_metric(preds, dataset):\n",
    "    \"\"\"\n",
    "    Función personalizada para evaluar la efectividad del modelo\n",
    "    en la detección de fraudes basados en patrones inusuales de frecuencia\n",
    "    de compra entre un usuario y un comerciante.\n",
    "    \"\"\"\n",
    "    # Obtenemos las etiquetas verdaderas\n",
    "    labels = dataset.get_label()\n",
    "    \n",
    "    # Convertimos las predicciones a clases binarias\n",
    "    preds_binary = np.where(preds > 0.5, 1, 0)\n",
    "    \n",
    "    try:\n",
    "        # Acceder a los datos originales\n",
    "        data_to_use = X_train_processed if dataset.reference is None else X_test_processed\n",
    "        \n",
    "        # Características importantes para analizar frecuencia usuario-vendedor\n",
    "        first_time = data_to_use['first_time_at_merchant'].values\n",
    "        high_amt_first = data_to_use['high_amt_first_time'].values\n",
    "        times_day_z = data_to_use['times_day_z_score'].values\n",
    "        \n",
    "        # Identificar transacciones potencialmente sospechosas por frecuencia\n",
    "        suspicious_frequency = (first_time == 1) | (high_amt_first == 1) | (times_day_z > 2.0)\n",
    "        \n",
    "        # Calcular métricas específicas para patrón de frecuencia inusual\n",
    "        true_pos_freq = np.sum((labels == 1) & (preds_binary == 1) & suspicious_frequency)\n",
    "        false_neg_freq = np.sum((labels == 1) & (preds_binary == 0) & suspicious_frequency)\n",
    "        \n",
    "        # Calcular el recall en transacciones con frecuencia sospechosa\n",
    "        if true_pos_freq + false_neg_freq > 0:\n",
    "            frequency_recall = true_pos_freq / (true_pos_freq + false_neg_freq)\n",
    "        else:\n",
    "            frequency_recall = 1.0  # No hay casos sospechosos\n",
    "        \n",
    "        # Calculamos las métricas generales\n",
    "        true_positives = np.sum((labels == 1) & (preds_binary == 1))\n",
    "        false_positives = np.sum((labels == 0) & (preds_binary == 1))\n",
    "        \n",
    "        # Calcular precisión para fraudes en general\n",
    "        if true_positives + false_positives > 0:\n",
    "            precision = true_positives / (true_positives + false_positives)\n",
    "        else:\n",
    "            precision = 0.0\n",
    "            \n",
    "        # Métrica combinada: Balance entre precisión general y recall en casos sospechosos\n",
    "        # Ponderamos más el recall en casos sospechosos por frecuencia (0.7 vs 0.3)\n",
    "        weighted_score = 0.3 * precision + 0.7 * frequency_recall\n",
    "        \n",
    "        # Invertimos el score para que un valor menor sea mejor (para optimización)\n",
    "        inverted_score = 1.0 - weighted_score\n",
    "        \n",
    "        return 'merchant_frequency_metric', inverted_score, False  # False porque un valor menor es mejor\n",
    "        \n",
    "    except (ValueError, IndexError):\n",
    "        # Calculamos la métrica personalizada: FN / (TP + FN) en caso de error\n",
    "        true_positives = np.sum((labels == 1) & (preds_binary == 1))\n",
    "        false_negatives = np.sum((labels == 1) & (preds_binary == 0))\n",
    "        \n",
    "        if true_positives == 0:\n",
    "            ratio = float('inf')  # Si no hay TP, la métrica es infinita (muy mala)\n",
    "        else:\n",
    "            ratio = (true_positives + false_negatives) / true_positives\n",
    "\n",
    "        return 'merchant_frequency_metric', ratio, False  # Invertimos F1 para que menor sea mejor"
   ]
  },
  {
   "cell_type": "code",
   "execution_count": 49,
   "id": "b1b90c82",
   "metadata": {},
   "outputs": [
    {
     "name": "stdout",
     "output_type": "stream",
     "text": [
      "[LightGBM] [Info] Number of positive: 9393, number of negative: 1703463\n",
      "[LightGBM] [Info] Auto-choosing row-wise multi-threading, the overhead of testing was 0.066417 seconds.\n",
      "You can set `force_row_wise=true` to remove the overhead.\n",
      "And if memory is not enough, you can set `force_col_wise=true`.\n",
      "[LightGBM] [Info] Total Bins 7131\n",
      "[LightGBM] [Info] Number of data points in the train set: 1712856, number of used features: 46\n",
      "[LightGBM] [Info] [binary:BoostFromScore]: pavg=0.005484 -> initscore=-5.200454\n",
      "[LightGBM] [Info] Start training from score -5.200454\n"
     ]
    }
   ],
   "source": [
    "# Configurar parámetros\n",
    "params_fp = {\n",
    "    'objective': 'binary', # Definimos el objetivo de clasificación binaria\n",
    "    'metric': 'precision', # Definimos la métrica de evaluación a binar logloss por nuestro objetivo\n",
    "    'learning_rate': 0.05, # Definimos la tasa de aprendizaje\n",
    "    'num_leaves': 42, # Definimos el número de hojas de nuestros árboles\n",
    "    'seed': 321, # Definimos la semilla para guardar el estado aleatorio\n",
    "    'feature_fraction': 0.8, # Definimos la fracción de características a usar en cada iteración (estas son seleccionadas aleatoriamente)\n",
    "    'lambda_l1': 0.6, # Definimos la regularización L1\n",
    "    'lambda_l2': 0.7, # Definimos la regularización L2\n",
    "    'is_unbalance': True, # Le indicamos al modelo que el dataset está desbalanceado\n",
    "    'boosting_type': 'gbdt', # Definimos el tipo de boosting a usar (utilizamos DART, ya que es una opción más robusta, aunque más costosa y lenta al momento de entrenar datos)\n",
    "    'num_threads': 4, # Definimos el número de hilos a usar para realizar el entrenamiento\n",
    "}\n",
    "\n",
    "# Entrenar el modelo con la métrica personalizada\n",
    "model_merchant_frequency = lgb.train(\n",
    "    params_fp,\n",
    "    train_data,\n",
    "    num_boost_round=100,\n",
    "    valid_sets=[train_data, test_data],\n",
    "    feval=custom_merchant_frequency_metric\n",
    ")"
   ]
  },
  {
   "cell_type": "code",
   "execution_count": 50,
   "id": "d6cab196",
   "metadata": {},
   "outputs": [
    {
     "name": "stdout",
     "output_type": "stream",
     "text": [
      "\n",
      "Classification Report:\n",
      "              precision    recall  f1-score   support\n",
      "\n",
      "   Not Fraud       1.00      0.99      1.00    139280\n",
      "       Fraud       0.17      0.95      0.29       258\n",
      "\n",
      "    accuracy                           0.99    139538\n",
      "   macro avg       0.59      0.97      0.64    139538\n",
      "weighted avg       1.00      0.99      0.99    139538\n",
      "\n",
      "Accuracy: 0.9914\n",
      "ROC AUC Score: 0.9924\n"
     ]
    }
   ],
   "source": [
    "# Obtenemos las predicciones del modelo mejorado con el dataset de prueba\n",
    "y_pred_merchant_frequency = model_merchant_frequency.predict(X_test_processed)\n",
    "# Convertir a clases\n",
    "y_pred_binary_merchant_frequency = np.where(y_pred_merchant_frequency > 0.5, 1, 0)\n",
    "\n",
    "# Calcular las métricas\n",
    "accuracy_merchant_frequency = accuracy_score(y_test, y_pred_binary_merchant_frequency)\n",
    "auc_merchant_frequency = roc_auc_score(y_test, y_pred_merchant_frequency)\n",
    "\n",
    "print(\"\\nClassification Report:\")\n",
    "print(classification_report(y_test, y_pred_binary_merchant_frequency, target_names=['Not Fraud', 'Fraud']))\n",
    "\n",
    "print(f\"Accuracy: {accuracy_merchant_frequency:.4f}\")\n",
    "print(f\"ROC AUC Score: {auc_merchant_frequency:.4f}\")"
   ]
  },
  {
   "cell_type": "code",
   "execution_count": 51,
   "id": "da3d7ad0",
   "metadata": {},
   "outputs": [
    {
     "data": {
      "image/png": "[encoded data removed]",
      "text/plain": [
       "<Figure size 800x600 with 2 Axes>"
      ]
     },
     "metadata": {},
     "output_type": "display_data"
    }
   ],
   "source": [
    "cm = confusion_matrix(y_test, y_pred_binary_merchant_frequency)\n",
    "\n",
    "plt.figure(figsize=(8, 6))\n",
    "sns.heatmap(cm, annot=True, fmt='d', cmap='Blues', xticklabels=['No Fraude', 'Fraude'], yticklabels=['No Fraude', 'Fraude'])\n",
    "plt.title('Confusion Matrix - LightGBM')\n",
    "plt.ylabel('Actual Label')\n",
    "plt.xlabel('Predicted Label')\n",
    "plt.show()"
   ]
  },
  {
   "cell_type": "markdown",
   "id": "6f50aca4",
   "metadata": {},
   "source": [
    "### Métrica identificando anomalías en distancias"
   ]
  },
  {
   "cell_type": "code",
   "execution_count": 52,
   "id": "ea6cd11f",
   "metadata": {},
   "outputs": [],
   "source": [
    "def custom_distance_anomaly_metric(preds, dataset):\n",
    "    \"\"\"\n",
    "    Función personalizada para evaluar la efectividad del modelo\n",
    "    en la detección de fraudes basados en anomalías de distancia y velocidad.\n",
    "    \"\"\"\n",
    "    # Obtenemos las etiquetas verdaderas\n",
    "    labels = dataset.get_label()\n",
    "    \n",
    "    # Convertimos las predicciones a clases binarias\n",
    "    preds_binary = np.where(preds > 0.5, 1, 0)\n",
    "    \n",
    "    try:\n",
    "        # Accedemos a los datos originales\n",
    "        data_to_use = X_train_processed if dataset.reference is None else X_test_processed\n",
    "        \n",
    "        # Características relacionadas con la distancia\n",
    "        unusual_distance = data_to_use['unusual_distance'].values\n",
    "        velocity_km_h = data_to_use['velocity_km_h'].values\n",
    "        dist_z_score = data_to_use['dist_z_score'].values\n",
    "        \n",
    "        # Definimos umbrales para identificar anomalías\n",
    "        velocity_threshold = 300  # km/h (velocidad imposible entre transacciones)\n",
    "        z_score_threshold = 3.0   # Más de 3 desviaciones estándar es muy inusual\n",
    "        \n",
    "        # Identificar transacciones con anomalías de distancia\n",
    "        distance_anomalies = (unusual_distance == 1) | \\\n",
    "                             (velocity_km_h > velocity_threshold) | \\\n",
    "                             (np.abs(dist_z_score) > z_score_threshold)\n",
    "        \n",
    "        # Calcular métricas específicas para anomalías de distancia\n",
    "        true_pos_dist = np.sum((labels == 1) & (preds_binary == 1) & distance_anomalies)\n",
    "        false_neg_dist = np.sum((labels == 1) & (preds_binary == 0) & distance_anomalies)\n",
    "        false_pos_dist = np.sum((labels == 0) & (preds_binary == 1) & distance_anomalies)\n",
    "        \n",
    "        # Calcular métricas generales\n",
    "        true_positives = np.sum((labels == 1) & (preds_binary == 1))\n",
    "        false_positives = np.sum((labels == 0) & (preds_binary == 1))\n",
    "        false_negatives = np.sum((labels == 1) & (preds_binary == 0))\n",
    "        \n",
    "        # Calcular recall específico para anomalías de distancia\n",
    "        if true_pos_dist + false_neg_dist > 0:\n",
    "            distance_recall = true_pos_dist / (true_pos_dist + false_neg_dist)\n",
    "        else:\n",
    "            distance_recall = 1.0  # No hay anomalías de distancia con fraude\n",
    "        \n",
    "        # Calcular precisión específica para anomalías de distancia\n",
    "        if true_pos_dist + false_pos_dist > 0:\n",
    "            distance_precision = true_pos_dist / (true_pos_dist + false_pos_dist)\n",
    "        else:\n",
    "            distance_precision = 1.0  # No hay predicciones positivas para anomalías\n",
    "        \n",
    "        # Calcular recall general\n",
    "        if true_positives + false_negatives > 0:\n",
    "            general_recall = true_positives / (true_positives + false_negatives)\n",
    "        else:\n",
    "            general_recall = 0.0\n",
    "            \n",
    "        # Calcular precisión general\n",
    "        if true_positives + false_positives > 0:\n",
    "            general_precision = true_positives / (true_positives + false_positives)\n",
    "        else:\n",
    "            general_precision = 0.0\n",
    "        \n",
    "        # Calcular F1-score para anomalías de distancia\n",
    "        if distance_precision + distance_recall > 0:\n",
    "            distance_f1 = 2 * (distance_precision * distance_recall) / (distance_precision + distance_recall)\n",
    "        else:\n",
    "            distance_f1 = 0.0\n",
    "        \n",
    "        # Métrica combinada: Balance entre métricas generales y específicas de distancia\n",
    "        # Damos más peso a la detección de anomalías de distancia\n",
    "        weighted_score = 0.3 * general_precision + 0.2 * general_recall + 0.5 * distance_f1\n",
    "        \n",
    "        # Invertimos para que un valor menor sea mejor (para optimización)\n",
    "        inverted_score = 1.0 - weighted_score\n",
    "        \n",
    "        return 'distance_anomaly_metric', inverted_score, False  # False porque un valor menor es mejor\n",
    "    \n",
    "    except (ValueError, IndexError, KeyError) as e:\n",
    "        # Calculamos la métrica personalizada: FN / (TP + FN) en caso de error\n",
    "        true_positives = np.sum((labels == 1) & (preds_binary == 1))\n",
    "        false_negatives = np.sum((labels == 1) & (preds_binary == 0))\n",
    "        \n",
    "        if true_positives == 0:\n",
    "            ratio = float('inf')  # Si no hay TP, la métrica es infinita (muy mala)\n",
    "        else:\n",
    "            ratio = (true_positives + false_negatives) / true_positives\n",
    "        \n",
    "        return 'distance_anomaly_metric', ratio, False"
   ]
  },
  {
   "cell_type": "code",
   "execution_count": 53,
   "id": "1b1c2073",
   "metadata": {},
   "outputs": [
    {
     "name": "stdout",
     "output_type": "stream",
     "text": [
      "[LightGBM] [Info] Number of positive: 9393, number of negative: 1703463\n",
      "[LightGBM] [Info] Auto-choosing row-wise multi-threading, the overhead of testing was 0.050852 seconds.\n",
      "You can set `force_row_wise=true` to remove the overhead.\n",
      "And if memory is not enough, you can set `force_col_wise=true`.\n",
      "[LightGBM] [Info] Total Bins 7131\n",
      "[LightGBM] [Info] Number of data points in the train set: 1712856, number of used features: 46\n",
      "[LightGBM] [Info] [binary:BoostFromScore]: pavg=0.005484 -> initscore=-5.200454\n",
      "[LightGBM] [Info] Start training from score -5.200454\n"
     ]
    }
   ],
   "source": [
    "# Configurar parámetros\n",
    "params_fn = {\n",
    "    'objective': 'binary', # Definimos el objetivo de clasificación binaria\n",
    "    'metric': 'binary_logloss', # Definimos la métrica de evaluación a binar logloss por nuestro objetivo\n",
    "    'learning_rate': 0.05, # Definimos la tasa de aprendizaje\n",
    "    'num_leaves': 31, # Definimos el número de hojas de nuestros árboles\n",
    "    'max_depth': 10, # Definimos la profundidad máxima de nuestros árboles\n",
    "    'seed': 321, # Definimos la semilla para guardar el estado aleatorio\n",
    "    'feature_fraction': 0.6, # Definimos la fracción de características a usar en cada iteración (estas son seleccionadas aleatoriamente)\n",
    "    'lambda_l1': 0.5, # Definimos la regularización L1\n",
    "    'lambda_l2': 0.7, # Definimos la regularización L2\n",
    "    'is_unbalance': True, # Le indicamos al modelo que el dataset está desbalanceado\n",
    "    'boosting_type': 'gbdt', # Definimos el tipo de boosting a usar (utilizamos DART, ya que es una opción más robusta, aunque más costosa y lenta al momento de entrenar datos)\n",
    "    'num_threads': 4, # Definimos el número de hilos a usar para realizar el entrenamiento\n",
    "}\n",
    "\n",
    "# Entrenar el modelo con la métrica personalizada\n",
    "model_distance_anomaly = lgb.train(\n",
    "    params_fn,\n",
    "    train_data,\n",
    "    num_boost_round=100,\n",
    "    valid_sets=[train_data, test_data],\n",
    "    feval=custom_distance_anomaly_metric,\n",
    ")"
   ]
  },
  {
   "cell_type": "code",
   "execution_count": 54,
   "id": "28bf0ca0",
   "metadata": {},
   "outputs": [
    {
     "name": "stdout",
     "output_type": "stream",
     "text": [
      "\n",
      "Classification Report:\n",
      "              precision    recall  f1-score   support\n",
      "\n",
      "   Not Fraud       1.00      0.99      0.99    139280\n",
      "       Fraud       0.13      0.96      0.24       258\n",
      "\n",
      "    accuracy                           0.99    139538\n",
      "   macro avg       0.57      0.97      0.61    139538\n",
      "weighted avg       1.00      0.99      0.99    139538\n",
      "\n",
      "Accuracy: 0.9885\n",
      "AUC: 0.9947\n"
     ]
    }
   ],
   "source": [
    "# Obtenemos las predicciones del modelo mejorado con el dataset de prueba\n",
    "y_pred_distance_anomaly = model_distance_anomaly.predict(X_test_processed)\n",
    "# Convertir a clases\n",
    "y_pred_binary_distance_anomaly = np.where(y_pred_distance_anomaly > 0.5, 1, 0)\n",
    "\n",
    "# Calcular las métricas\n",
    "accuracy_distance_anomaly = accuracy_score(y_test, y_pred_binary_distance_anomaly)\n",
    "auc_distance_anomaly = roc_auc_score(y_test, y_pred_distance_anomaly)\n",
    "\n",
    "print(\"\\nClassification Report:\")\n",
    "print(classification_report(y_test, y_pred_binary_distance_anomaly, target_names=['Not Fraud', 'Fraud']))\n",
    "\n",
    "print(f\"Accuracy: {accuracy_distance_anomaly:.4f}\")\n",
    "print(f\"AUC: {auc_distance_anomaly:.4f}\")"
   ]
  },
  {
   "cell_type": "code",
   "execution_count": 55,
   "id": "46b3b779",
   "metadata": {},
   "outputs": [
    {
     "data": {
      "image/png": "[encoded data removed]",
      "text/plain": [
       "<Figure size 800x600 with 2 Axes>"
      ]
     },
     "metadata": {},
     "output_type": "display_data"
    }
   ],
   "source": [
    "# Desplegamos las predicciones en una matriz de confusión\n",
    "cm = confusion_matrix(y_test, y_pred_binary_distance_anomaly)\n",
    "\n",
    "plt.figure(figsize=(8, 6))\n",
    "sns.heatmap(cm, annot=True, fmt='d', cmap='Blues', xticklabels=['No Fraude', 'Fraude'], yticklabels=['No Fraude', 'Fraude'])\n",
    "plt.title('Confusion Matrix - LightGBM')\n",
    "plt.ylabel('Actual Label')\n",
    "plt.xlabel('Predicted Label')\n",
    "plt.show()"
   ]
  },
  {
   "cell_type": "markdown",
   "id": "fbfd9c41",
   "metadata": {},
   "source": [
    "## Comparación entre los modelos"
   ]
  },
  {
   "cell_type": "code",
   "execution_count": 42,
   "id": "93ed816b",
   "metadata": {},
   "outputs": [
    {
     "data": {
      "image/png": "[encoded data removed]",
      "text/plain": [
       "<Figure size 1000x800 with 1 Axes>"
      ]
     },
     "metadata": {},
     "output_type": "display_data"
    },
    {
     "data": {
      "image/png": "[encoded data removed]",
      "text/plain": [
       "<Figure size 1000x600 with 1 Axes>"
      ]
     },
     "metadata": {},
     "output_type": "display_data"
    }
   ],
   "source": [
    "from sklearn.metrics import roc_curve, auc\n",
    "import matplotlib.pyplot as plt\n",
    "\n",
    "plt.figure(figsize=(10, 8))\n",
    "\n",
    "fpr_lgbm, tpr_lgbm, _ = roc_curve(y_test, y_pred_proba_lgbm)\n",
    "fpr_improved, tpr_improved, _ = roc_curve(y_test, y_pred_unique_card)\n",
    "fpr_fp, tpr_fp, _ = roc_curve(y_test, y_pred_merchant_frequency)\n",
    "fpr_fn, tpr_fn, _ = roc_curve(y_test, y_pred_distance_anomaly)\n",
    "\n",
    "roc_auc_lgbm = roc_auc_score(y_test, y_pred_proba_lgbm)\n",
    "roc_auc_improved = roc_auc_score(y_test, y_pred_unique_card)\n",
    "roc_auc_fp = roc_auc_score(y_test, y_pred_merchant_frequency)\n",
    "roc_auc_fn = roc_auc_score(y_test, y_pred_distance_anomaly)\n",
    "\n",
    "plt.plot(fpr_lgbm, tpr_lgbm, color='blue', lw=2, \n",
    "         label=f'Basic LGBM (AUC = {roc_auc_lgbm:.4f})')\n",
    "plt.plot(fpr_improved, tpr_improved, color='green', lw=2, \n",
    "         label=f'Unique Cards and Amount per/hour (AUC = {roc_auc_improved:.4f})')\n",
    "plt.plot(fpr_fp, tpr_fp, color='red', lw=2, \n",
    "         label=f'Buyers Frequencies (AUC = {roc_auc_fp:.4f})')\n",
    "plt.plot(fpr_fn, tpr_fn, color='purple', lw=2, \n",
    "         label=f'Distance Anomalies (AUC = {roc_auc_fn:.4f})')\n",
    "\n",
    "plt.plot([0, 1], [0, 1], color='navy', lw=1, linestyle='--')\n",
    "\n",
    "plt.xlabel('Tasa de Falsos Positivos')\n",
    "plt.ylabel('Tasa de Verdaderos Positivos')\n",
    "plt.title('Curvas ROC para los Modelos de Detección de Fraude')\n",
    "\n",
    "plt.legend(loc='lower right')\n",
    "\n",
    "\n",
    "plt.grid(True, alpha=0.3)\n",
    "\n",
    "\n",
    "plt.xlim([0.0, 1.0])\n",
    "plt.ylim([0.0, 1.05])\n",
    "\n",
    "plt.show()\n",
    "\n",
    "\n",
    "plt.figure(figsize=(10, 6))\n",
    "models = ['Basic LGBM', 'Unique Cards and Amount per/hour', 'Buyers Frequencies', 'Distance Anomalies']\n",
    "auc_scores = [roc_auc_lgbm, roc_auc_improved, roc_auc_fp, roc_auc_fn]\n",
    "\n",
    "bars = plt.bar(models, auc_scores, color=['blue', 'green', 'red', 'purple'])\n",
    "\n",
    "for bar in bars:\n",
    "    height = bar.get_height()\n",
    "    plt.text(bar.get_x() + bar.get_width()/2., height - 0.005, \n",
    "             f'{height:.4f}', ha='center', va='top', color='white') \n",
    "\n",
    "plt.ylim(0.9, 1.0)  \n",
    "plt.title('Comparación de AUC entre Modelos')\n",
    "plt.ylabel('AUC Score')\n",
    "plt.grid(axis='y', alpha=0.3)\n",
    "plt.show()"
   ]
  },
  {
   "cell_type": "code",
   "execution_count": null,
   "id": "3acfc8c7",
   "metadata": {},
   "outputs": [],
   "source": []
  }
 ],
 "metadata": {
  "kernelspec": {
   "display_name": "Python 3",
   "language": "python",
   "name": "python3"
  },
  "language_info": {
   "codemirror_mode": {
    "name": "ipython",
    "version": 3
   },
   "file_extension": ".py",
   "mimetype": "text/x-python",
   "name": "python",
   "nbconvert_exporter": "python",
   "pygments_lexer": "ipython3",
   "version": "3.11.9"
  }
 },
 "nbformat": 4,
 "nbformat_minor": 5
}
