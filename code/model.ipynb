{
 "cells": [
  {
   "cell_type": "code",
   "execution_count": 31,
   "id": "209be322",
   "metadata": {},
   "outputs": [],
   "source": [
    "import bisect\n",
    "import numpy as np\n",
    "import pandas as pd\n",
    "import seaborn as sns\n",
    "import lightgbm as lgb\n",
    "import matplotlib.pyplot as plt\n",
    "\n",
    "from sklearn.model_selection import train_test_split\n",
    "from sklearn.metrics import classification_report, confusion_matrix, roc_auc_score, f1_score, accuracy_score\n",
    "from sklearn.preprocessing import LabelEncoder"
   ]
  },
  {
   "cell_type": "code",
   "execution_count": 2,
   "id": "8e713c2a",
   "metadata": {},
   "outputs": [],
   "source": [
    "df = pd.read_csv('../data/data_engineered.csv')"
   ]
  },
  {
   "cell_type": "code",
   "execution_count": 3,
   "id": "6c9e50c0",
   "metadata": {},
   "outputs": [],
   "source": [
    "df = df.drop(columns=['first', 'last', 'city_pop', 'street', 'city', 'state', 'job', 'dob', 'trans_num', 'hour_window', 'unix_time'])"
   ]
  },
  {
   "cell_type": "code",
   "execution_count": 4,
   "id": "3b2125a1",
   "metadata": {},
   "outputs": [],
   "source": [
    "X = df.drop(columns=['is_fraud'])\n",
    "y = df['is_fraud']"
   ]
  },
  {
   "cell_type": "markdown",
   "id": "728c16e8",
   "metadata": {},
   "source": [
    "Preprocessing"
   ]
  },
  {
   "cell_type": "code",
   "execution_count": 5,
   "id": "d0105d7f",
   "metadata": {},
   "outputs": [],
   "source": [
    "X_train, X_test, y_train, y_test = train_test_split(X, y, test_size=0.3, random_state=123)"
   ]
  },
  {
   "cell_type": "code",
   "execution_count": 6,
   "id": "412936c0",
   "metadata": {},
   "outputs": [],
   "source": [
    "categorical_cols = X_train.select_dtypes(include=['object', 'category']).columns\n",
    "numerical_cols = X_train.select_dtypes(include=np.number).columns"
   ]
  },
  {
   "cell_type": "code",
   "execution_count": 7,
   "id": "21cb4dfe",
   "metadata": {},
   "outputs": [
    {
     "data": {
      "text/plain": [
       "Index(['merchant', 'category', 'gender'], dtype='object')"
      ]
     },
     "execution_count": 7,
     "metadata": {},
     "output_type": "execute_result"
    }
   ],
   "source": [
    "categorical_cols"
   ]
  },
  {
   "cell_type": "code",
   "execution_count": 8,
   "id": "c400dbc5",
   "metadata": {},
   "outputs": [
    {
     "data": {
      "text/plain": [
       "Index(['cc_num', 'amt', 'zip', 'lat', 'long', 'merch_lat', 'merch_long',\n",
       "       'amt_month', 'amt_year', 'amt_month_shopping_net_spend',\n",
       "       'count_month_shopping_net', 'dist_between_client_and_merch',\n",
       "       'trans_month', 'trans_day', 'hour', 'year', 'times_shopped_at_merchant',\n",
       "       'times_shopped_at_merchant_year', 'times_shopped_at_merchant_month',\n",
       "       'times_shopped_at_merchant_day', 'time_diff_seconds', 'trans_per_hour',\n",
       "       'hour_trans_ratio', 'unusual_distance', 'distance_diff',\n",
       "       'velocity_km_h', 'mean_dist_merchant', 'std_dist_merchant',\n",
       "       'dist_z_score', 'amt_month_ratio', 'amt_year_ratio',\n",
       "       'mean_amt_category', 'std_amt_category', 'amt_z_score',\n",
       "       'high_amt_first_time', 'mean_times_day_merchant',\n",
       "       'std_times_day_merchant', 'times_day_z_score', 'fraud_rate_merchant',\n",
       "       'unique_cards_per_hour', 'amt_variance_hour'],\n",
       "      dtype='object')"
      ]
     },
     "execution_count": 8,
     "metadata": {},
     "output_type": "execute_result"
    }
   ],
   "source": [
    "numerical_cols"
   ]
  },
  {
   "cell_type": "code",
   "execution_count": 9,
   "id": "69064aa7",
   "metadata": {},
   "outputs": [],
   "source": [
    "X_train_processed = X_train.copy()\n",
    "X_test_processed = X_test.copy()"
   ]
  },
  {
   "cell_type": "code",
   "execution_count": 10,
   "id": "4f57bc57",
   "metadata": {},
   "outputs": [],
   "source": [
    "for col in categorical_cols:\n",
    "    le = LabelEncoder()\n",
    "    # Fit on training data and transform both train and test\n",
    "    X_train_processed[col] = le.fit_transform(X_train[col].astype(str)) # Ensure string type\n",
    "\n",
    "    # Handle new/unseen categories in test data\n",
    "    # Map them to a placeholder that will be included in the encoder's classes\n",
    "    X_test_processed[col] = X_test[col].astype(str).map(lambda s: '<unknown>' if s not in le.classes_ else s)\n",
    "    \n",
    "    if '<unknown>' not in le.classes_:\n",
    "        # Add '<unknown>' to the LabelEncoder's classes if it's not already there\n",
    "        # and it appeared in the test set after mapping\n",
    "        if X_test_processed[col].eq('<unknown>').any():\n",
    "            le_classes = le.classes_.tolist()\n",
    "            bisect.insort_left(le_classes, '<unknown>') # Keep sorted for consistency\n",
    "            le.classes_ = np.array(le_classes)\n",
    "        \n",
    "    X_test_processed[col] = le.transform(X_test_processed[col])"
   ]
  },
  {
   "cell_type": "markdown",
   "id": "c835cca0",
   "metadata": {},
   "source": [
    "## Primer Intento"
   ]
  },
  {
   "cell_type": "markdown",
   "id": "15cac21e",
   "metadata": {},
   "source": [
    "Definimos los parámetros para nuestro modelo"
   ]
  },
  {
   "cell_type": "code",
   "execution_count": null,
   "id": "934c27ba",
   "metadata": {},
   "outputs": [],
   "source": [
    "lgbm_classifier = lgb.LGBMClassifier(\n",
    "    n_estimators=100,\n",
    "    learning_rate=0.1,\n",
    "    objective='binary',\n",
    "    random_state=123,\n",
    "    n_jobs=2,\n",
    "    is_unbalance=True\n",
    ")"
   ]
  },
  {
   "cell_type": "markdown",
   "id": "b637f069",
   "metadata": {},
   "source": [
    "Entrenamos el modelo que definimos con la data de entrenamiento"
   ]
  },
  {
   "cell_type": "code",
   "execution_count": 12,
   "id": "8439c003",
   "metadata": {},
   "outputs": [
    {
     "name": "stdout",
     "output_type": "stream",
     "text": [
      "[LightGBM] [Info] Number of positive: 6811, number of negative: 1289864\n",
      "[LightGBM] [Info] Auto-choosing row-wise multi-threading, the overhead of testing was 0.050412 seconds.\n",
      "You can set `force_row_wise=true` to remove the overhead.\n",
      "And if memory is not enough, you can set `force_col_wise=true`.\n",
      "[LightGBM] [Info] Total Bins 7087\n",
      "[LightGBM] [Info] Number of data points in the train set: 1296675, number of used features: 45\n",
      "[LightGBM] [Info] [binary:BoostFromScore]: pavg=0.005253 -> initscore=-5.243753\n",
      "[LightGBM] [Info] Start training from score -5.243753\n"
     ]
    },
    {
     "data": {
      "text/html": [
       "<style>#sk-container-id-1 {\n",
       "  /* Definition of color scheme common for light and dark mode */\n",
       "  --sklearn-color-text: black;\n",
       "  --sklearn-color-line: gray;\n",
       "  /* Definition of color scheme for unfitted estimators */\n",
       "  --sklearn-color-unfitted-level-0: #fff5e6;\n",
       "  --sklearn-color-unfitted-level-1: #f6e4d2;\n",
       "  --sklearn-color-unfitted-level-2: #ffe0b3;\n",
       "  --sklearn-color-unfitted-level-3: chocolate;\n",
       "  /* Definition of color scheme for fitted estimators */\n",
       "  --sklearn-color-fitted-level-0: #f0f8ff;\n",
       "  --sklearn-color-fitted-level-1: #d4ebff;\n",
       "  --sklearn-color-fitted-level-2: #b3dbfd;\n",
       "  --sklearn-color-fitted-level-3: cornflowerblue;\n",
       "\n",
       "  /* Specific color for light theme */\n",
       "  --sklearn-color-text-on-default-background: var(--sg-text-color, var(--theme-code-foreground, var(--jp-content-font-color1, black)));\n",
       "  --sklearn-color-background: var(--sg-background-color, var(--theme-background, var(--jp-layout-color0, white)));\n",
       "  --sklearn-color-border-box: var(--sg-text-color, var(--theme-code-foreground, var(--jp-content-font-color1, black)));\n",
       "  --sklearn-color-icon: #696969;\n",
       "\n",
       "  @media (prefers-color-scheme: dark) {\n",
       "    /* Redefinition of color scheme for dark theme */\n",
       "    --sklearn-color-text-on-default-background: var(--sg-text-color, var(--theme-code-foreground, var(--jp-content-font-color1, white)));\n",
       "    --sklearn-color-background: var(--sg-background-color, var(--theme-background, var(--jp-layout-color0, #111)));\n",
       "    --sklearn-color-border-box: var(--sg-text-color, var(--theme-code-foreground, var(--jp-content-font-color1, white)));\n",
       "    --sklearn-color-icon: #878787;\n",
       "  }\n",
       "}\n",
       "\n",
       "#sk-container-id-1 {\n",
       "  color: var(--sklearn-color-text);\n",
       "}\n",
       "\n",
       "#sk-container-id-1 pre {\n",
       "  padding: 0;\n",
       "}\n",
       "\n",
       "#sk-container-id-1 input.sk-hidden--visually {\n",
       "  border: 0;\n",
       "  clip: rect(1px 1px 1px 1px);\n",
       "  clip: rect(1px, 1px, 1px, 1px);\n",
       "  height: 1px;\n",
       "  margin: -1px;\n",
       "  overflow: hidden;\n",
       "  padding: 0;\n",
       "  position: absolute;\n",
       "  width: 1px;\n",
       "}\n",
       "\n",
       "#sk-container-id-1 div.sk-dashed-wrapped {\n",
       "  border: 1px dashed var(--sklearn-color-line);\n",
       "  margin: 0 0.4em 0.5em 0.4em;\n",
       "  box-sizing: border-box;\n",
       "  padding-bottom: 0.4em;\n",
       "  background-color: var(--sklearn-color-background);\n",
       "}\n",
       "\n",
       "#sk-container-id-1 div.sk-container {\n",
       "  /* jupyter's `normalize.less` sets `[hidden] { display: none; }`\n",
       "     but bootstrap.min.css set `[hidden] { display: none !important; }`\n",
       "     so we also need the `!important` here to be able to override the\n",
       "     default hidden behavior on the sphinx rendered scikit-learn.org.\n",
       "     See: https://github.com/scikit-learn/scikit-learn/issues/21755 */\n",
       "  display: inline-block !important;\n",
       "  position: relative;\n",
       "}\n",
       "\n",
       "#sk-container-id-1 div.sk-text-repr-fallback {\n",
       "  display: none;\n",
       "}\n",
       "\n",
       "div.sk-parallel-item,\n",
       "div.sk-serial,\n",
       "div.sk-item {\n",
       "  /* draw centered vertical line to link estimators */\n",
       "  background-image: linear-gradient(var(--sklearn-color-text-on-default-background), var(--sklearn-color-text-on-default-background));\n",
       "  background-size: 2px 100%;\n",
       "  background-repeat: no-repeat;\n",
       "  background-position: center center;\n",
       "}\n",
       "\n",
       "/* Parallel-specific style estimator block */\n",
       "\n",
       "#sk-container-id-1 div.sk-parallel-item::after {\n",
       "  content: \"\";\n",
       "  width: 100%;\n",
       "  border-bottom: 2px solid var(--sklearn-color-text-on-default-background);\n",
       "  flex-grow: 1;\n",
       "}\n",
       "\n",
       "#sk-container-id-1 div.sk-parallel {\n",
       "  display: flex;\n",
       "  align-items: stretch;\n",
       "  justify-content: center;\n",
       "  background-color: var(--sklearn-color-background);\n",
       "  position: relative;\n",
       "}\n",
       "\n",
       "#sk-container-id-1 div.sk-parallel-item {\n",
       "  display: flex;\n",
       "  flex-direction: column;\n",
       "}\n",
       "\n",
       "#sk-container-id-1 div.sk-parallel-item:first-child::after {\n",
       "  align-self: flex-end;\n",
       "  width: 50%;\n",
       "}\n",
       "\n",
       "#sk-container-id-1 div.sk-parallel-item:last-child::after {\n",
       "  align-self: flex-start;\n",
       "  width: 50%;\n",
       "}\n",
       "\n",
       "#sk-container-id-1 div.sk-parallel-item:only-child::after {\n",
       "  width: 0;\n",
       "}\n",
       "\n",
       "/* Serial-specific style estimator block */\n",
       "\n",
       "#sk-container-id-1 div.sk-serial {\n",
       "  display: flex;\n",
       "  flex-direction: column;\n",
       "  align-items: center;\n",
       "  background-color: var(--sklearn-color-background);\n",
       "  padding-right: 1em;\n",
       "  padding-left: 1em;\n",
       "}\n",
       "\n",
       "\n",
       "/* Toggleable style: style used for estimator/Pipeline/ColumnTransformer box that is\n",
       "clickable and can be expanded/collapsed.\n",
       "- Pipeline and ColumnTransformer use this feature and define the default style\n",
       "- Estimators will overwrite some part of the style using the `sk-estimator` class\n",
       "*/\n",
       "\n",
       "/* Pipeline and ColumnTransformer style (default) */\n",
       "\n",
       "#sk-container-id-1 div.sk-toggleable {\n",
       "  /* Default theme specific background. It is overwritten whether we have a\n",
       "  specific estimator or a Pipeline/ColumnTransformer */\n",
       "  background-color: var(--sklearn-color-background);\n",
       "}\n",
       "\n",
       "/* Toggleable label */\n",
       "#sk-container-id-1 label.sk-toggleable__label {\n",
       "  cursor: pointer;\n",
       "  display: block;\n",
       "  width: 100%;\n",
       "  margin-bottom: 0;\n",
       "  padding: 0.5em;\n",
       "  box-sizing: border-box;\n",
       "  text-align: center;\n",
       "}\n",
       "\n",
       "#sk-container-id-1 label.sk-toggleable__label-arrow:before {\n",
       "  /* Arrow on the left of the label */\n",
       "  content: \"▸\";\n",
       "  float: left;\n",
       "  margin-right: 0.25em;\n",
       "  color: var(--sklearn-color-icon);\n",
       "}\n",
       "\n",
       "#sk-container-id-1 label.sk-toggleable__label-arrow:hover:before {\n",
       "  color: var(--sklearn-color-text);\n",
       "}\n",
       "\n",
       "/* Toggleable content - dropdown */\n",
       "\n",
       "#sk-container-id-1 div.sk-toggleable__content {\n",
       "  max-height: 0;\n",
       "  max-width: 0;\n",
       "  overflow: hidden;\n",
       "  text-align: left;\n",
       "  /* unfitted */\n",
       "  background-color: var(--sklearn-color-unfitted-level-0);\n",
       "}\n",
       "\n",
       "#sk-container-id-1 div.sk-toggleable__content.fitted {\n",
       "  /* fitted */\n",
       "  background-color: var(--sklearn-color-fitted-level-0);\n",
       "}\n",
       "\n",
       "#sk-container-id-1 div.sk-toggleable__content pre {\n",
       "  margin: 0.2em;\n",
       "  border-radius: 0.25em;\n",
       "  color: var(--sklearn-color-text);\n",
       "  /* unfitted */\n",
       "  background-color: var(--sklearn-color-unfitted-level-0);\n",
       "}\n",
       "\n",
       "#sk-container-id-1 div.sk-toggleable__content.fitted pre {\n",
       "  /* unfitted */\n",
       "  background-color: var(--sklearn-color-fitted-level-0);\n",
       "}\n",
       "\n",
       "#sk-container-id-1 input.sk-toggleable__control:checked~div.sk-toggleable__content {\n",
       "  /* Expand drop-down */\n",
       "  max-height: 200px;\n",
       "  max-width: 100%;\n",
       "  overflow: auto;\n",
       "}\n",
       "\n",
       "#sk-container-id-1 input.sk-toggleable__control:checked~label.sk-toggleable__label-arrow:before {\n",
       "  content: \"▾\";\n",
       "}\n",
       "\n",
       "/* Pipeline/ColumnTransformer-specific style */\n",
       "\n",
       "#sk-container-id-1 div.sk-label input.sk-toggleable__control:checked~label.sk-toggleable__label {\n",
       "  color: var(--sklearn-color-text);\n",
       "  background-color: var(--sklearn-color-unfitted-level-2);\n",
       "}\n",
       "\n",
       "#sk-container-id-1 div.sk-label.fitted input.sk-toggleable__control:checked~label.sk-toggleable__label {\n",
       "  background-color: var(--sklearn-color-fitted-level-2);\n",
       "}\n",
       "\n",
       "/* Estimator-specific style */\n",
       "\n",
       "/* Colorize estimator box */\n",
       "#sk-container-id-1 div.sk-estimator input.sk-toggleable__control:checked~label.sk-toggleable__label {\n",
       "  /* unfitted */\n",
       "  background-color: var(--sklearn-color-unfitted-level-2);\n",
       "}\n",
       "\n",
       "#sk-container-id-1 div.sk-estimator.fitted input.sk-toggleable__control:checked~label.sk-toggleable__label {\n",
       "  /* fitted */\n",
       "  background-color: var(--sklearn-color-fitted-level-2);\n",
       "}\n",
       "\n",
       "#sk-container-id-1 div.sk-label label.sk-toggleable__label,\n",
       "#sk-container-id-1 div.sk-label label {\n",
       "  /* The background is the default theme color */\n",
       "  color: var(--sklearn-color-text-on-default-background);\n",
       "}\n",
       "\n",
       "/* On hover, darken the color of the background */\n",
       "#sk-container-id-1 div.sk-label:hover label.sk-toggleable__label {\n",
       "  color: var(--sklearn-color-text);\n",
       "  background-color: var(--sklearn-color-unfitted-level-2);\n",
       "}\n",
       "\n",
       "/* Label box, darken color on hover, fitted */\n",
       "#sk-container-id-1 div.sk-label.fitted:hover label.sk-toggleable__label.fitted {\n",
       "  color: var(--sklearn-color-text);\n",
       "  background-color: var(--sklearn-color-fitted-level-2);\n",
       "}\n",
       "\n",
       "/* Estimator label */\n",
       "\n",
       "#sk-container-id-1 div.sk-label label {\n",
       "  font-family: monospace;\n",
       "  font-weight: bold;\n",
       "  display: inline-block;\n",
       "  line-height: 1.2em;\n",
       "}\n",
       "\n",
       "#sk-container-id-1 div.sk-label-container {\n",
       "  text-align: center;\n",
       "}\n",
       "\n",
       "/* Estimator-specific */\n",
       "#sk-container-id-1 div.sk-estimator {\n",
       "  font-family: monospace;\n",
       "  border: 1px dotted var(--sklearn-color-border-box);\n",
       "  border-radius: 0.25em;\n",
       "  box-sizing: border-box;\n",
       "  margin-bottom: 0.5em;\n",
       "  /* unfitted */\n",
       "  background-color: var(--sklearn-color-unfitted-level-0);\n",
       "}\n",
       "\n",
       "#sk-container-id-1 div.sk-estimator.fitted {\n",
       "  /* fitted */\n",
       "  background-color: var(--sklearn-color-fitted-level-0);\n",
       "}\n",
       "\n",
       "/* on hover */\n",
       "#sk-container-id-1 div.sk-estimator:hover {\n",
       "  /* unfitted */\n",
       "  background-color: var(--sklearn-color-unfitted-level-2);\n",
       "}\n",
       "\n",
       "#sk-container-id-1 div.sk-estimator.fitted:hover {\n",
       "  /* fitted */\n",
       "  background-color: var(--sklearn-color-fitted-level-2);\n",
       "}\n",
       "\n",
       "/* Specification for estimator info (e.g. \"i\" and \"?\") */\n",
       "\n",
       "/* Common style for \"i\" and \"?\" */\n",
       "\n",
       ".sk-estimator-doc-link,\n",
       "a:link.sk-estimator-doc-link,\n",
       "a:visited.sk-estimator-doc-link {\n",
       "  float: right;\n",
       "  font-size: smaller;\n",
       "  line-height: 1em;\n",
       "  font-family: monospace;\n",
       "  background-color: var(--sklearn-color-background);\n",
       "  border-radius: 1em;\n",
       "  height: 1em;\n",
       "  width: 1em;\n",
       "  text-decoration: none !important;\n",
       "  margin-left: 1ex;\n",
       "  /* unfitted */\n",
       "  border: var(--sklearn-color-unfitted-level-1) 1pt solid;\n",
       "  color: var(--sklearn-color-unfitted-level-1);\n",
       "}\n",
       "\n",
       ".sk-estimator-doc-link.fitted,\n",
       "a:link.sk-estimator-doc-link.fitted,\n",
       "a:visited.sk-estimator-doc-link.fitted {\n",
       "  /* fitted */\n",
       "  border: var(--sklearn-color-fitted-level-1) 1pt solid;\n",
       "  color: var(--sklearn-color-fitted-level-1);\n",
       "}\n",
       "\n",
       "/* On hover */\n",
       "div.sk-estimator:hover .sk-estimator-doc-link:hover,\n",
       ".sk-estimator-doc-link:hover,\n",
       "div.sk-label-container:hover .sk-estimator-doc-link:hover,\n",
       ".sk-estimator-doc-link:hover {\n",
       "  /* unfitted */\n",
       "  background-color: var(--sklearn-color-unfitted-level-3);\n",
       "  color: var(--sklearn-color-background);\n",
       "  text-decoration: none;\n",
       "}\n",
       "\n",
       "div.sk-estimator.fitted:hover .sk-estimator-doc-link.fitted:hover,\n",
       ".sk-estimator-doc-link.fitted:hover,\n",
       "div.sk-label-container:hover .sk-estimator-doc-link.fitted:hover,\n",
       ".sk-estimator-doc-link.fitted:hover {\n",
       "  /* fitted */\n",
       "  background-color: var(--sklearn-color-fitted-level-3);\n",
       "  color: var(--sklearn-color-background);\n",
       "  text-decoration: none;\n",
       "}\n",
       "\n",
       "/* Span, style for the box shown on hovering the info icon */\n",
       ".sk-estimator-doc-link span {\n",
       "  display: none;\n",
       "  z-index: 9999;\n",
       "  position: relative;\n",
       "  font-weight: normal;\n",
       "  right: .2ex;\n",
       "  padding: .5ex;\n",
       "  margin: .5ex;\n",
       "  width: min-content;\n",
       "  min-width: 20ex;\n",
       "  max-width: 50ex;\n",
       "  color: var(--sklearn-color-text);\n",
       "  box-shadow: 2pt 2pt 4pt #999;\n",
       "  /* unfitted */\n",
       "  background: var(--sklearn-color-unfitted-level-0);\n",
       "  border: .5pt solid var(--sklearn-color-unfitted-level-3);\n",
       "}\n",
       "\n",
       ".sk-estimator-doc-link.fitted span {\n",
       "  /* fitted */\n",
       "  background: var(--sklearn-color-fitted-level-0);\n",
       "  border: var(--sklearn-color-fitted-level-3);\n",
       "}\n",
       "\n",
       ".sk-estimator-doc-link:hover span {\n",
       "  display: block;\n",
       "}\n",
       "\n",
       "/* \"?\"-specific style due to the `<a>` HTML tag */\n",
       "\n",
       "#sk-container-id-1 a.estimator_doc_link {\n",
       "  float: right;\n",
       "  font-size: 1rem;\n",
       "  line-height: 1em;\n",
       "  font-family: monospace;\n",
       "  background-color: var(--sklearn-color-background);\n",
       "  border-radius: 1rem;\n",
       "  height: 1rem;\n",
       "  width: 1rem;\n",
       "  text-decoration: none;\n",
       "  /* unfitted */\n",
       "  color: var(--sklearn-color-unfitted-level-1);\n",
       "  border: var(--sklearn-color-unfitted-level-1) 1pt solid;\n",
       "}\n",
       "\n",
       "#sk-container-id-1 a.estimator_doc_link.fitted {\n",
       "  /* fitted */\n",
       "  border: var(--sklearn-color-fitted-level-1) 1pt solid;\n",
       "  color: var(--sklearn-color-fitted-level-1);\n",
       "}\n",
       "\n",
       "/* On hover */\n",
       "#sk-container-id-1 a.estimator_doc_link:hover {\n",
       "  /* unfitted */\n",
       "  background-color: var(--sklearn-color-unfitted-level-3);\n",
       "  color: var(--sklearn-color-background);\n",
       "  text-decoration: none;\n",
       "}\n",
       "\n",
       "#sk-container-id-1 a.estimator_doc_link.fitted:hover {\n",
       "  /* fitted */\n",
       "  background-color: var(--sklearn-color-fitted-level-3);\n",
       "}\n",
       "</style><div id=\"sk-container-id-1\" class=\"sk-top-container\"><div class=\"sk-text-repr-fallback\"><pre>LGBMClassifier(is_unbalance=True, n_jobs=2, objective=&#x27;binary&#x27;,\n",
       "               random_state=123)</pre><b>In a Jupyter environment, please rerun this cell to show the HTML representation or trust the notebook. <br />On GitHub, the HTML representation is unable to render, please try loading this page with nbviewer.org.</b></div><div class=\"sk-container\" hidden><div class=\"sk-item\"><div class=\"sk-estimator fitted sk-toggleable\"><input class=\"sk-toggleable__control sk-hidden--visually\" id=\"sk-estimator-id-1\" type=\"checkbox\" checked><label for=\"sk-estimator-id-1\" class=\"sk-toggleable__label fitted sk-toggleable__label-arrow fitted\">&nbsp;LGBMClassifier<span class=\"sk-estimator-doc-link fitted\">i<span>Fitted</span></span></label><div class=\"sk-toggleable__content fitted\"><pre>LGBMClassifier(is_unbalance=True, n_jobs=2, objective=&#x27;binary&#x27;,\n",
       "               random_state=123)</pre></div> </div></div></div></div>"
      ],
      "text/plain": [
       "LGBMClassifier(is_unbalance=True, n_jobs=2, objective='binary',\n",
       "               random_state=123)"
      ]
     },
     "execution_count": 12,
     "metadata": {},
     "output_type": "execute_result"
    }
   ],
   "source": [
    "lgbm_classifier.fit(X_train_processed, y_train)"
   ]
  },
  {
   "cell_type": "markdown",
   "id": "4607c308",
   "metadata": {},
   "source": [
    "Obtenemos las predicciones del modelo entrenado utilizando los datos de prueba"
   ]
  },
  {
   "cell_type": "code",
   "execution_count": 13,
   "id": "79d14d7c",
   "metadata": {},
   "outputs": [],
   "source": [
    "y_pred_lgbm = lgbm_classifier.predict(X_test_processed)\n",
    "y_pred_proba_lgbm = lgbm_classifier.predict_proba(X_test_processed)[:, 1]"
   ]
  },
  {
   "cell_type": "markdown",
   "id": "29262f65",
   "metadata": {},
   "source": [
    "Comparamos los resultados de las predicciones"
   ]
  },
  {
   "cell_type": "code",
   "execution_count": 38,
   "id": "24701771",
   "metadata": {},
   "outputs": [
    {
     "name": "stdout",
     "output_type": "stream",
     "text": [
      "LightGBM Model Evaluation:\n"
     ]
    },
    {
     "data": {
      "image/png": "[encoded data removed]",
      "text/plain": [
       "<Figure size 800x600 with 2 Axes>"
      ]
     },
     "metadata": {},
     "output_type": "display_data"
    }
   ],
   "source": [
    "print(\"LightGBM Model Evaluation:\")\n",
    "cm = confusion_matrix(y_test, y_pred_lgbm)\n",
    "\n",
    "plt.figure(figsize=(8, 6))\n",
    "sns.heatmap(cm, annot=True, fmt='d', cmap='Blues', xticklabels=['No Fraude', 'Fraude'], yticklabels=['No Fraude', 'Fraude'])\n",
    "plt.title('Confusion Matrix - LightGBM')\n",
    "plt.ylabel('Actual Label')\n",
    "plt.xlabel('Predicted Label')\n",
    "plt.show()\n"
   ]
  },
  {
   "cell_type": "markdown",
   "id": "895fa0c4",
   "metadata": {},
   "source": [
    "En la gráfica se puede ver que nuestro modelo es muy bueno sabiendo cuando una transacción es no fraude, sin embargo, se puede ver que también tiende a confundir algunas transacciones como fraude cuando no lo son. cuando vemos la clasificación de las transacciones fraudulentas, podemos ver que nuestras si lográ identificar un 93% de las transacciones fraudulentas, lo cual es menos del 7% para errores de tipo 2. En cambio, cuando miramos los errores de tipo 1, se puede ver que nuestro modelo no parece reconocer muy bien los fraudes, ya que nos devuelve muchas transacciones legítimas como fraudulentas."
   ]
  },
  {
   "cell_type": "code",
   "execution_count": 17,
   "id": "435ea624",
   "metadata": {},
   "outputs": [
    {
     "name": "stdout",
     "output_type": "stream",
     "text": [
      "\n",
      "Classification Report:\n",
      "              precision    recall  f1-score   support\n",
      "\n",
      "   Not Fraud       1.00      0.97      0.99    552879\n",
      "       Fraud       0.15      0.93      0.25      2840\n",
      "\n",
      "    accuracy                           0.97    555719\n",
      "   macro avg       0.57      0.95      0.62    555719\n",
      "weighted avg       1.00      0.97      0.98    555719\n",
      "\n",
      "\n",
      "ROC AUC Score:\n",
      "0.9508250741973977\n",
      "\n",
      "F1 Score:\n",
      "0.9818516398969912\n"
     ]
    }
   ],
   "source": [
    "print(\"\\nClassification Report:\")\n",
    "print(classification_report(y_test, y_pred_lgbm, target_names=['Not Fraud', 'Fraud']))\n",
    "\n",
    "print(\"\\nROC AUC Score:\")\n",
    "print(roc_auc_score(y_test, y_pred_proba_lgbm))\n",
    "\n",
    "print(\"\\nF1 Score:\")\n",
    "print(f1_score(y_test, y_pred_lgbm, average='weighted'))\n"
   ]
  },
  {
   "cell_type": "code",
   "execution_count": 18,
   "id": "08639b62",
   "metadata": {},
   "outputs": [
    {
     "name": "stdout",
     "output_type": "stream",
     "text": [
      "\n",
      "Feature Importances (LightGBM):\n",
      "amt_z_score: 311\n",
      "amt: 276\n",
      "hour_trans_ratio: 224\n",
      "mean_times_day_merchant: 171\n",
      "amt_year_ratio: 162\n",
      "amt_month_ratio: 155\n",
      "fraud_rate_merchant: 144\n",
      "hour: 138\n",
      "std_times_day_merchant: 120\n",
      "amt_month_shopping_net_spend: 115\n",
      "amt_year: 88\n",
      "time_diff_seconds: 87\n",
      "amt_month: 85\n",
      "times_day_z_score: 84\n",
      "cc_num: 63\n",
      "amt_variance_hour: 58\n",
      "velocity_km_h: 52\n",
      "merchant: 51\n",
      "distance_diff: 47\n",
      "mean_dist_merchant: 47\n",
      "std_dist_merchant: 44\n",
      "category: 42\n",
      "zip: 41\n",
      "count_month_shopping_net: 38\n",
      "times_shopped_at_merchant: 36\n",
      "lat: 36\n",
      "dist_between_client_and_merch: 35\n",
      "mean_amt_category: 33\n",
      "merch_lat: 30\n",
      "trans_per_hour: 26\n",
      "long: 24\n",
      "trans_month: 24\n",
      "std_amt_category: 19\n",
      "dist_z_score: 18\n",
      "times_shopped_at_merchant_year: 18\n",
      "merch_long: 17\n",
      "trans_day: 15\n",
      "gender: 6\n",
      "times_shopped_at_merchant_month: 6\n",
      "unique_cards_per_hour: 5\n",
      "times_shopped_at_merchant_day: 4\n",
      "high_amt_first_time: 2\n",
      "first_time_at_merchant: 2\n",
      "year: 1\n",
      "unusual_distance: 0\n"
     ]
    }
   ],
   "source": [
    "print(\"\\nFeature Importances (LightGBM):\")\n",
    "importances = lgbm_classifier.feature_importances_\n",
    "feature_names = X_train_processed.columns\n",
    "sorted_indices = np.argsort(importances)[::-1]\n",
    "\n",
    "for i in sorted_indices:\n",
    "    print(f\"{feature_names[i]}: {importances[i]}\")"
   ]
  },
  {
   "cell_type": "markdown",
   "id": "58053f76",
   "metadata": {},
   "source": [
    "Imprimimos las features más importantes dentro de las predicciones del modelo"
   ]
  },
  {
   "cell_type": "markdown",
   "id": "d5cc0158",
   "metadata": {},
   "source": [
    "## Métricas Personalizadas"
   ]
  },
  {
   "cell_type": "markdown",
   "id": "0ec1fb4d",
   "metadata": {},
   "source": [
    "### Métrica para error en general"
   ]
  },
  {
   "cell_type": "code",
   "execution_count": 32,
   "id": "2af5cf2b",
   "metadata": {},
   "outputs": [
    {
     "name": "stdout",
     "output_type": "stream",
     "text": [
      "[LightGBM] [Info] Number of positive: 6811, number of negative: 1289864\n",
      "[LightGBM] [Info] Auto-choosing row-wise multi-threading, the overhead of testing was 0.024762 seconds.\n",
      "You can set `force_row_wise=true` to remove the overhead.\n",
      "And if memory is not enough, you can set `force_col_wise=true`.\n",
      "[LightGBM] [Info] Total Bins 7089\n",
      "[LightGBM] [Info] Number of data points in the train set: 1296675, number of used features: 45\n",
      "[LightGBM] [Info] [binary:BoostFromScore]: pavg=0.005253 -> initscore=-5.243753\n",
      "[LightGBM] [Info] Start training from score -5.243753\n"
     ]
    }
   ],
   "source": [
    "# Función feval personalizada para la tasa de error de clasificación\n",
    "def custom_error(preds, dataset):\n",
    "    # Obtenemos las etiquetas verdaderas\n",
    "    labels = dataset.get_label()\n",
    "    # Convertimos las predicciones a clases (umbral 0.5 para clasificación binaria)\n",
    "    preds_binary = np.where(preds > 0.5, 1, 0)\n",
    "    # Calculamos la tasa de error\n",
    "    error = np.mean(preds_binary != labels)\n",
    "    # Devolver una tupla: (nombre_métrica, valor_métrica, es_mayor_mejor)\n",
    "    return 'custom_error', error, False  # Colocamos False porque un error menor es mejor\n",
    "\n",
    "# Crear datasets de LightGBM\n",
    "train_data = lgb.Dataset(X_train_processed, label=y_train)\n",
    "test_data = lgb.Dataset(X_test_processed, label=y_test, reference=train_data)\n",
    "\n",
    "# Configurar parámetros\n",
    "params = {\n",
    "    'objective': 'binary',\n",
    "    'metric': 'binary_logloss',\n",
    "    'learning_rate': 0.05,\n",
    "    'num_leaves': 31\n",
    "}\n",
    "\n",
    "# Entrenar el modelo con la métrica personalizada\n",
    "model = lgb.train(\n",
    "    params,\n",
    "    train_data,\n",
    "    num_boost_round=100,\n",
    "    valid_sets=[train_data, test_data],\n",
    "    feval=custom_error # Colocamos nuestra función de evaluación personalizada\n",
    ")"
   ]
  },
  {
   "cell_type": "code",
   "execution_count": 34,
   "id": "746762f6",
   "metadata": {},
   "outputs": [
    {
     "name": "stdout",
     "output_type": "stream",
     "text": [
      "Accuracy: 0.9985\n",
      "AUC: 0.9967\n",
      "F1 Score: 0.9985\n"
     ]
    }
   ],
   "source": [
    "# Obtenemos las predicciones del modelo mejorado con el dataset de prueba\n",
    "y_pred_improved = model.predict(X_test_processed)\n",
    "# Convertir a clases\n",
    "y_pred_binary_improved = np.where(y_pred_improved > 0.5, 1, 0)\n",
    "\n",
    "# Calcular las métricas\n",
    "accuracy = accuracy_score(y_test, y_pred_binary_improved)\n",
    "auc = roc_auc_score(y_test, y_pred_improved)\n",
    "f1_score = f1_score(y_test, y_pred_binary_improved, average='weighted')\n",
    "\n",
    "print(f\"Accuracy: {accuracy:.4f}\")\n",
    "print(f\"AUC: {auc:.4f}\")\n",
    "print(f\"F1 Score: {f1_score:.4f}\")"
   ]
  },
  {
   "cell_type": "code",
   "execution_count": 40,
   "id": "1f1f1a0c",
   "metadata": {},
   "outputs": [
    {
     "name": "stdout",
     "output_type": "stream",
     "text": [
      "LightGBM Model Evaluation:\n"
     ]
    },
    {
     "data": {
      "image/png": "[encoded data removed]",
      "text/plain": [
       "<Figure size 800x600 with 2 Axes>"
      ]
     },
     "metadata": {},
     "output_type": "display_data"
    }
   ],
   "source": [
    "cm = confusion_matrix(y_test, y_pred_binary_improved)\n",
    "\n",
    "plt.figure(figsize=(8, 6))\n",
    "sns.heatmap(cm, annot=True, fmt='d', cmap='Blues', xticklabels=['No Fraude', 'Fraude'], yticklabels=['No Fraude', 'Fraude'])\n",
    "plt.title('Confusion Matrix - LightGBM')\n",
    "plt.ylabel('Actual Label')\n",
    "plt.xlabel('Predicted Label')\n",
    "plt.show()"
   ]
  }
 ],
 "metadata": {
  "kernelspec": {
   "display_name": "Python 3",
   "language": "python",
   "name": "python3"
  },
  "language_info": {
   "codemirror_mode": {
    "name": "ipython",
    "version": 3
   },
   "file_extension": ".py",
   "mimetype": "text/x-python",
   "name": "python",
   "nbconvert_exporter": "python",
   "pygments_lexer": "ipython3",
   "version": "3.11.9"
  }
 },
 "nbformat": 4,
 "nbformat_minor": 5
}
