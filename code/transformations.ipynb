{
 "cells": [
  {
   "cell_type": "code",
   "execution_count": 2,
   "id": "ad28049f",
   "metadata": {},
   "outputs": [],
   "source": [
    "import pandas as pd\n",
    "import matplotlib.pyplot as plt\n",
    "import seaborn as sns\n",
    "import numpy as np\n",
    "from sklearn.preprocessing import StandardScaler"
   ]
  },
  {
   "cell_type": "code",
   "execution_count": null,
   "id": "7a85dcc9",
   "metadata": {},
   "outputs": [],
   "source": [
    "df = pd.read_csv('../data/dataset_feature_engineering.csv')"
   ]
  },
  {
   "cell_type": "markdown",
   "id": "0e561336",
   "metadata": {},
   "source": [
    "#### Data Transformations"
   ]
  },
  {
   "cell_type": "code",
   "execution_count": 4,
   "id": "0faa41cc",
   "metadata": {},
   "outputs": [],
   "source": [
    "# We transform every string value to lowercase\n",
    "df['merchant'] = df['merchant'].str.lower()\n",
    "df['category'] = df['category'].str.lower()\n",
    "df['first'] = df['first'].str.lower()\n",
    "df['last'] = df['last'].str.lower()\n",
    "df['gender'] = df['gender'].str.lower()\n",
    "df['state'] = df['state'].str.lower()\n",
    "df['street'] = df['street'].str.lower()\n",
    "df['city'] = df['city'].str.lower()\n",
    "df['job'] = df['job'].str.lower()"
   ]
  },
  {
   "cell_type": "code",
   "execution_count": 5,
   "id": "c7c1454d",
   "metadata": {},
   "outputs": [],
   "source": [
    "# We transform every date value to datetime\n",
    "df['dob'] = pd.to_datetime(df['dob'], format='%Y-%m-%d')\n",
    "\n",
    "# We transform the 'unix_time' column to datetime\n",
    "df['unix_time'] = pd.to_datetime(df['unix_time'], unit='s')"
   ]
  },
  {
   "cell_type": "code",
   "execution_count": null,
   "id": "d2c01000",
   "metadata": {},
   "outputs": [],
   "source": [
    "# Export the dataset to a CSV file\n",
    "df.to_csv('../data/dataset_cleaned.csv', index=False)"
   ]
  },
  {
   "cell_type": "code",
   "execution_count": 7,
   "id": "4f2f9ef6",
   "metadata": {},
   "outputs": [
    {
     "data": {
      "text/plain": [
       "(1852394, 35)"
      ]
     },
     "execution_count": 7,
     "metadata": {},
     "output_type": "execute_result"
    }
   ],
   "source": [
    "df.shape"
   ]
  },
  {
   "cell_type": "markdown",
   "id": "dbf7e827",
   "metadata": {},
   "source": [
    "### Feature Engineering"
   ]
  },
  {
   "cell_type": "code",
   "execution_count": 8,
   "id": "2113b76d",
   "metadata": {},
   "outputs": [],
   "source": [
    "# We sort the DataFrame by the card number and time\n",
    "df = df.sort_values(['cc_num', 'unix_time'])\n",
    "# We calculate the time difference in seconds between consecutive transactions per card\n",
    "df['time_diff_seconds'] = df.groupby('cc_num')['unix_time'].diff().dt.total_seconds().fillna(0)\n",
    "# This to know how often the client spends between transactions\n",
    "\n",
    "# We calculate the hour window by unix time\n",
    "df['hour_window'] = df['unix_time'].dt.floor('h')\n",
    "# We calculate the amount of transactions per hour made per card\n",
    "df['trans_per_hour'] = df.groupby(['cc_num', 'hour_window'])['trans_num'].transform('count')\n",
    "# This to know how many transactions are made per hour by the client\n",
    "\n",
    "# Ratio of transactions per hour to total transactions per card\n",
    "df['hour_trans_ratio'] = df.groupby(['cc_num', 'hour'])['trans_num'].transform('count') / df.groupby('cc_num')['trans_num'].transform('count')\n",
    "# This to know how many transactions the client usually makes per hour"
   ]
  },
  {
   "cell_type": "code",
   "execution_count": 9,
   "id": "3db36bfb",
   "metadata": {},
   "outputs": [],
   "source": [
    "# We calculate if the distance between the client and the merchant is unusual (> 100 km)\n",
    "df['unusual_distance'] = (df['dist_between_client_and_merch'] > 100).astype(int)\n",
    "# This to know if the far transactions made by the client\n",
    "\n",
    "# We calculate the distance between the client and the merchant\n",
    "df['distance_diff'] = df.groupby('cc_num')['dist_between_client_and_merch'].diff().fillna(0)\n",
    "# We calculate the velocity in km/h between consecutive transactions\n",
    "df['velocity_km_h'] = (df['distance_diff'] / (df['time_diff_seconds'] / 3600)).replace([float('inf'), -float('inf')], 0).fillna(0)\n",
    "# This to know how fast the client most move to make those transactions\n",
    "\n",
    "# We calculate the mean and standard deviation of the distance between the client and the merchant\n",
    "df['mean_dist_merchant'] = df.groupby('merchant')['dist_between_client_and_merch'].transform('mean')\n",
    "df['std_dist_merchant'] = df.groupby('merchant')['dist_between_client_and_merch'].transform('std')\n",
    "df['dist_z_score'] = (df['dist_between_client_and_merch'] - df['mean_dist_merchant']) / df['std_dist_merchant'].replace(0, 1)\n",
    "# This to know how unusual the distance between the client and the merchant is"
   ]
  },
  {
   "cell_type": "code",
   "execution_count": 10,
   "id": "31de975b",
   "metadata": {},
   "outputs": [],
   "source": [
    "# We calculate the amount ratio of transactions per month and year\n",
    "df['amt_month_ratio'] = df['amt'] / df['amt_month'].replace(0, 1)\n",
    "df['amt_year_ratio'] = df['amt'] / df['amt_year'].replace(0, 1)\n",
    "# This helps us identify amounts that are significantly higher or lower than the average for that month or year.\n",
    "\n",
    "# Desviación de monto por categoría\n",
    "df['mean_amt_category'] = df.groupby('category')['amt'].transform('mean')\n",
    "df['std_amt_category'] = df.groupby('category')['amt'].transform('std')\n",
    "df['amt_z_score'] = (df['amt'] - df['mean_amt_category']) / df['std_amt_category'].replace(0, 1)\n",
    "# This helps us identify transactions that are significantly higher or lower than the average for that category, which usually is the behavior of fraudulent transactions.\n",
    "\n",
    "# Primera transacción de alto monto\n",
    "amt_threshold = df['amt'].quantile(0.9)\n",
    "df['high_amt_first_time'] = (df['first_time_at_merchant'] & (df['amt'] > amt_threshold)).astype(int)\n",
    "# This to know if the client made a high amount transaction for the first time at the merchant, which could mean a fraudulent transaction."
   ]
  },
  {
   "cell_type": "code",
   "execution_count": 11,
   "id": "c783b0ff",
   "metadata": {},
   "outputs": [],
   "source": [
    "# We calculate the mean, standard deviation, and z-score of the amount of times spent at each merchant\n",
    "df['mean_times_day_merchant'] = df.groupby('merchant')['times_shopped_at_merchant_day'].transform('mean')\n",
    "df['std_times_day_merchant'] = df.groupby('merchant')['times_shopped_at_merchant_day'].transform('std')\n",
    "df['times_day_z_score'] = (df['times_shopped_at_merchant_day'] - df['mean_times_day_merchant']) / df['std_times_day_merchant'].replace(0, 1)\n",
    "# This helps us identify transactions that were made at the merchant that ocurred more frequently than usual, which usually is the behavior of fraudulent transactions.\n",
    "\n",
    "# Proporción de fraudes por comerciante (en datos de entrenamiento)\n",
    "df['fraud_rate_merchant'] = df.groupby('merchant')['is_fraud'].transform('mean')\n",
    "# This helps us identify merchants that have a high rate of fraud, which could indicate that the merchant is where the cards information is being stolen."
   ]
  },
  {
   "cell_type": "code",
   "execution_count": 12,
   "id": "b6b6418c",
   "metadata": {},
   "outputs": [],
   "source": [
    "# We calculate the amount of unique cards that were used at each merchant\n",
    "df['unique_cards_per_hour'] = df.groupby(['merchant', 'hour_window'])['cc_num'].transform('nunique')\n",
    "# This helps us identify if there is an usually high number of unique cards that were used at the merchant, which could indicate that a coordinated attack took place during a specific time.\n",
    "\n",
    "\n",
    "# We calculate the variance of the amount spent in each hour window\n",
    "df['amt_variance_hour'] = df.groupby(['merchant', 'hour_window'])['amt'].transform('std').fillna(0)\n",
    "# This could helps us identify if there is a coordinated attack taking place by looking at the variance of the amount spent in each hour window. A very high amount could indicate that there are suspiciously high transactions being made and if the value is too low, it could indicate that there are many stolen cards that are being tested (which is used to check if a stolen card can actually make any purchase)."
   ]
  },
  {
   "cell_type": "code",
   "execution_count": 13,
   "id": "752859bb",
   "metadata": {},
   "outputs": [
    {
     "data": {
      "text/plain": [
       "(1852394, 57)"
      ]
     },
     "execution_count": 13,
     "metadata": {},
     "output_type": "execute_result"
    }
   ],
   "source": [
    "df.shape"
   ]
  },
  {
   "cell_type": "code",
   "execution_count": null,
   "id": "bf060219",
   "metadata": {},
   "outputs": [],
   "source": [
    "# Export the dataset to a CSV file\n",
    "df.to_csv('../data/data_engineered.csv', index=False)"
   ]
  }
 ],
 "metadata": {
  "kernelspec": {
   "display_name": "Python 3",
   "language": "python",
   "name": "python3"
  },
  "language_info": {
   "codemirror_mode": {
    "name": "ipython",
    "version": 3
   },
   "file_extension": ".py",
   "mimetype": "text/x-python",
   "name": "python",
   "nbconvert_exporter": "python",
   "pygments_lexer": "ipython3",
   "version": "3.11.9"
  }
 },
 "nbformat": 4,
 "nbformat_minor": 5
}
